{
 "cells": [
  {
   "cell_type": "markdown",
   "id": "0",
   "metadata": {},
   "source": [
    "# GeoPandas\n",
    "\n",
    "[![Open in Colab](https://colab.research.google.com/assets/colab-badge.svg)](https://colab.research.google.com/github/lalgonzales/geo-intro-py/blob/main/contenido/geoespacial/09_geopandas.ipynb)\n",
    "\n",
    "## Descripción\n",
    "\n",
    "[GeoPandas](https://geopandas.org) es una librería de código abierto que extiende las estructuras de datos de Pandas para facilitar el trabajo con datos geoespaciales. Permite manipular y analizar geometrías (puntos, líneas, polígonos) de forma sencilla, integrando operaciones espaciales como uniones, buffers, intersecciones y reproyecciones.\n",
    "\n",
    "## Objetivos de aprendizaje\n",
    "\n",
    "- Comprender las estructuras básicas de GeoPandas: `GeoDataFrame` y `GeoSeries`.\n",
    "- Crear `GeoDataFrames` a partir de datos tabulares y formas geométricas.\n",
    "- Leer y escribir formatos geoespaciales como Shapefile y GeoJSON.\n",
    "- Realizar operaciones espaciales comunes: áreas, distancias, relaciones espaciales.\n",
    "- Visualizar datos geoespaciales con Matplotlib y GeoPandas.\n",
    "- Trabajar con diferentes sistemas de referencia de coordenadas (CRS).\n",
    "\n",
    "---\n",
    "\n",
    "## Conceptos clave\n",
    "\n",
    "Las estructuras principales de GeoPandas son `GeoDataFrame` y `GeoSeries`. Un `GeoDataFrame` es como un DataFrame de Pandas pero con una columna de geometría, lo que permite operaciones espaciales sobre los datos. Un `GeoDataFrame` puede tener varias columnas de geometría, pero solo una es la activa para operaciones espaciales (accesible con `.geometry`).\n",
    "\n",
    "---\n",
    "\n",
    "gdf = gpd.read_file(url)\n",
    "\n",
    "## Instalación e importación de GeoPandas\n",
    "\n",
    "Antes de comenzar, asegúrate de tener instalado GeoPandas:"
   ]
  },
  {
   "cell_type": "code",
   "execution_count": null,
   "id": "1",
   "metadata": {},
   "outputs": [],
   "source": [
    "# %pip install geopandas"
   ]
  },
  {
   "cell_type": "markdown",
   "id": "2",
   "metadata": {},
   "source": [
    "Importa las librerías necesarias:"
   ]
  },
  {
   "cell_type": "code",
   "execution_count": null,
   "id": "3",
   "metadata": {},
   "outputs": [],
   "source": [
    "import pandas as pd\n",
    "import geopandas as gpd\n",
    "import matplotlib.pyplot as plt"
   ]
  },
  {
   "cell_type": "markdown",
   "id": "4",
   "metadata": {},
   "source": [
    "## Creación de un GeoDataFrame desde cero"
   ]
  },
  {
   "cell_type": "code",
   "execution_count": null,
   "id": "5",
   "metadata": {},
   "outputs": [],
   "source": [
    "data = {\n",
    "    \"Ciudad\": [\"CDMX\", \"NYC\", \"Londres\", \"París\"],\n",
    "    \"Latitud\": [19.4, 40.7128, 51.5074, 48.8566],\n",
    "    \"Longitud\": [-99.1, -74.0060, -0.1278, 2.3522],\n",
    "}\n",
    "df = pd.DataFrame(data)\n",
    "gdf = gpd.GeoDataFrame(df, geometry=gpd.points_from_xy(df.Longitud, df.Latitud))\n",
    "print(gdf)"
   ]
  },
  {
   "cell_type": "markdown",
   "id": "6",
   "metadata": {},
   "source": [
    "## Lectura y escritura de datos geoespaciales\n",
    "\n",
    "GeoPandas permite leer y escribir múltiples formatos como Shapefile, GeoJSON y más.\n",
    "\n",
    "### Lectura de un archivo GeoJSON"
   ]
  },
  {
   "cell_type": "code",
   "execution_count": null,
   "id": "7",
   "metadata": {},
   "outputs": [],
   "source": [
    "url = \"https://github.com/opengeos/datasets/releases/download/vector/nybb.geojson\"\n",
    "gdf = gpd.read_file(url)\n",
    "print(gdf.head())"
   ]
  },
  {
   "cell_type": "markdown",
   "id": "8",
   "metadata": {},
   "source": [
    "### Escritura de un archivo GeoJSON"
   ]
  },
  {
   "cell_type": "code",
   "execution_count": null,
   "id": "9",
   "metadata": {},
   "outputs": [],
   "source": [
    "output_file = \"nyc_boroughs.geojson\"\n",
    "gdf.to_file(output_file, driver=\"GeoJSON\")\n",
    "print(f\"GeoDataFrame guardado en {output_file}\")"
   ]
  },
  {
   "cell_type": "markdown",
   "id": "10",
   "metadata": {},
   "source": [
    "### Escritura de otros formatos"
   ]
  },
  {
   "cell_type": "code",
   "execution_count": null,
   "id": "11",
   "metadata": {},
   "outputs": [],
   "source": [
    "output_file = \"nyc_boroughs.shp\"\n",
    "gdf.to_file(output_file)\n",
    "output_file = \"nyc_boroughs.gpkg\"\n",
    "gdf.to_file(output_file, driver=\"GPKG\")"
   ]
  },
  {
   "cell_type": "markdown",
   "id": "12",
   "metadata": {},
   "source": [
    "---\n",
    "\n",
    "## Filtrado y selección de datos espaciales"
   ]
  },
  {
   "cell_type": "code",
   "execution_count": null,
   "id": "13",
   "metadata": {},
   "outputs": [],
   "source": [
    "mexico = gdf[gdf[\"country\"] == \"Mexico\"]\n",
    "print(mexico)"
   ]
  },
  {
   "cell_type": "markdown",
   "id": "14",
   "metadata": {},
   "source": [
    "## Operaciones espaciales: cálculo de centroides"
   ]
  },
  {
   "cell_type": "code",
   "execution_count": null,
   "id": "15",
   "metadata": {},
   "outputs": [],
   "source": [
    "mexico[\"centroide\"] = mexico.geometry.centroid\n",
    "print(mexico[[\"name\", \"centroide\"]])"
   ]
  },
  {
   "cell_type": "markdown",
   "id": "16",
   "metadata": {},
   "source": [
    "## Visualización de datos espaciales"
   ]
  },
  {
   "cell_type": "code",
   "execution_count": null,
   "id": "17",
   "metadata": {},
   "outputs": [],
   "source": [
    "mexico.plot(column=\"population\", legend=True)"
   ]
  },
  {
   "cell_type": "markdown",
   "id": "18",
   "metadata": {},
   "source": [
    "---\n",
    "\n",
    "## Métodos y operaciones espaciales avanzadas\n",
    "\n",
    "### Medición de área, boundaries y centroides"
   ]
  },
  {
   "cell_type": "code",
   "execution_count": null,
   "id": "19",
   "metadata": {},
   "outputs": [],
   "source": [
    "gdf = gdf.set_index(\"BoroName\")\n",
    "gdf[\"area\"] = gdf.area\n",
    "gdf[\"boundary\"] = gdf.boundary\n",
    "gdf[\"centroide\"] = gdf.centroid\n",
    "print(gdf[[\"area\", \"boundary\", \"centroide\"]])"
   ]
  },
  {
   "cell_type": "markdown",
   "id": "20",
   "metadata": {},
   "source": [
    "### Medición de distancias"
   ]
  },
  {
   "cell_type": "code",
   "execution_count": null,
   "id": "21",
   "metadata": {},
   "outputs": [],
   "source": [
    "manhattan_centroid = gdf.loc[\"Manhattan\", \"centroide\"]\n",
    "gdf[\"distancia_a_manhattan\"] = gdf[\"centroide\"].distance(manhattan_centroid)\n",
    "print(gdf[[\"centroide\", \"distancia_a_manhattan\"]])"
   ]
  },
  {
   "cell_type": "markdown",
   "id": "22",
   "metadata": {},
   "source": [
    "### Buffer y convex hull"
   ]
  },
  {
   "cell_type": "code",
   "execution_count": null,
   "id": "23",
   "metadata": {},
   "outputs": [],
   "source": [
    "# Buffer de 10000 unidades\n",
    "gdf[\"buffered\"] = gdf.buffer(10000)\n",
    "gdf[\"convex_hull\"] = gdf.convex_hull"
   ]
  },
  {
   "cell_type": "markdown",
   "id": "24",
   "metadata": {},
   "source": [
    "### Visualización avanzada"
   ]
  },
  {
   "cell_type": "code",
   "execution_count": null,
   "id": "25",
   "metadata": {},
   "outputs": [],
   "source": [
    "# Mapa coloreado por área\n",
    "gdf.plot(\"area\", legend=True, figsize=(10, 6))\n",
    "plt.title(\"Boroughs de NYC por área\")\n",
    "plt.show()\n",
    "\n",
    "# Centroides y boundaries\n",
    "a = gdf.plot(edgecolor=\"black\", facecolor=\"none\")\n",
    "gdf[\"centroide\"].plot(ax=a, color=\"red\", marker=\"o\", label=\"Centroides\")\n",
    "gdf[\"boundary\"].plot(ax=a, color=\"blue\", label=\"Boundaries\")\n",
    "plt.legend()\n",
    "plt.show()\n",
    "\n",
    "# Buffer y convex hull\n",
    "gdf[\"buffered\"].plot(alpha=0.5, edgecolor=\"black\")\n",
    "plt.title(\"Buffer de boroughs (10,000 unidades)\")\n",
    "plt.show()\n",
    "gdf[\"convex_hull\"].plot(alpha=0.5, color=\"lightblue\", edgecolor=\"black\")\n",
    "plt.title(\"Convex hull de boroughs\")\n",
    "plt.show()"
   ]
  },
  {
   "cell_type": "markdown",
   "id": "26",
   "metadata": {},
   "source": [
    "### Consultas espaciales"
   ]
  },
  {
   "cell_type": "code",
   "execution_count": null,
   "id": "27",
   "metadata": {},
   "outputs": [],
   "source": [
    "# Intersección de buffers con Manhattan\n",
    "manhattan_geom = gdf.loc[\"Manhattan\", \"geometry\"]\n",
    "gdf[\"intersecta_manhattan\"] = gdf[\"buffered\"].intersects(manhattan_geom)\n",
    "print(gdf[[\"intersecta_manhattan\"]])\n",
    "\n",
    "# Centroides dentro del polígono\n",
    "gdf[\"centroide_en_borough\"] = gdf[\"centroide\"].within(gdf[\"geometry\"])\n",
    "print(gdf[[\"centroide_en_borough\"]])"
   ]
  },
  {
   "cell_type": "markdown",
   "id": "28",
   "metadata": {},
   "source": [
    "### Proyecciones y CRS"
   ]
  },
  {
   "cell_type": "code",
   "execution_count": null,
   "id": "29",
   "metadata": {},
   "outputs": [],
   "source": [
    "print(gdf.crs)\n",
    "gdf_4326 = gdf.to_crs(epsg=4326)\n",
    "gdf_4326.plot(figsize=(10, 6), edgecolor=\"black\")\n",
    "plt.title(\"Boroughs de NYC en WGS84 (EPSG:4326)\")\n",
    "plt.show()"
   ]
  },
  {
   "cell_type": "markdown",
   "id": "30",
   "metadata": {},
   "source": [
    "---\n",
    "\n",
    "## Ejercicios\n",
    "1. Crea un GeoDataFrame con una lista de países y sus capitales. Agrega una columna de geometría con la ubicación de las capitales.\n",
    "2. Carga un shapefile de tu elección, filtra los datos para incluir solo una región o país, y guarda el resultado en un nuevo archivo.\n",
    "3. Realiza un join espacial entre dos GeoDataFrames: uno con polígonos (ej. países) y otro con puntos (ej. ciudades). Determina qué puntos caen dentro de qué polígonos.\n",
    "4. Muestra un mapa con la distribución de un atributo (ej. población) en diferentes regiones.\n",
    "\n",
    "---\n",
    "\n",
    "## Resumen\n",
    "\n",
    "GeoPandas permite leer, manipular, analizar y visualizar datos geoespaciales de manera eficiente en Python. Incluye operaciones espaciales como buffers, hulls, consultas espaciales y reproyección de sistemas de coordenadas. Practica leyendo, filtrando y visualizando datos espaciales en tus propios proyectos para dominar el análisis geoespacial en Python.\n",
    "\n",
    "## Ejercicios\n",
    "1. Lee un archivo GeoJSON de ciudades y filtra solo las de México.\n",
    "2. Calcula el centroide de cada ciudad y agrégalo como columna.\n",
    "3. Visualiza el resultado usando GeoPandas.\n",
    "\n",
    "## Resumen\n",
    "GeoPandas permite manipular, analizar y visualizar datos geoespaciales de manera eficiente en Python. Practica leyendo, filtrando y visualizando datos espaciales en tus propios proyectos."
   ]
  }
 ],
 "metadata": {
  "jupytext": {
   "default_lexer": "ipython3"
  },
  "kernelspec": {
   "display_name": "Python 3",
   "language": "python",
   "name": "python3"
  }
 },
 "nbformat": 4,
 "nbformat_minor": 5
}
