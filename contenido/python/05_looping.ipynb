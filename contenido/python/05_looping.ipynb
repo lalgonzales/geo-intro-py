{
 "cells": [
  {
   "cell_type": "markdown",
   "id": "0",
   "metadata": {},
   "source": [
    "[![Open in Colab](https://colab.research.google.com/assets/colab-badge.svg)](https://colab.research.google.com/github/lalgonzales/geo-intro-py/blob/main/contenido/python/05_looping.ipynb)\n",
    "\n",
    "# Bucles y Sentencias de Control en Python\n",
    "\n",
    "## Descripción\n",
    "\n",
    "Esta sección introduce los bucles y sentencias de control en Python, con énfasis en aplicaciones geoespaciales. Aprenderás a automatizar tareas repetitivas y tomar decisiones basadas en condiciones de datos, fundamentales para procesar grandes volúmenes de información geográfica.\n",
    "\n",
    "## Objetivos de aprendizaje\n",
    "\n",
    "- Implementar bucles `for` para iterar sobre secuencias como listas y tuplas.\n",
    "- Usar bucles `while` para ejecutar tareas hasta que se cumpla una condición.\n",
    "- Aplicar sentencias de control (`if`, `elif`, `else`) para ejecutar bloques de código según condiciones.\n",
    "- Combinar bucles y sentencias de control para filtrar y analizar datos geoespaciales.\n",
    "- Automatizar tareas repetitivas en flujos de trabajo geográficos."
   ]
  },
  {
   "cell_type": "markdown",
   "id": "1",
   "metadata": {},
   "source": [
    "## Ejemplo básico de bucle for"
   ]
  },
  {
   "cell_type": "code",
   "execution_count": null,
   "id": "2",
   "metadata": {},
   "outputs": [],
   "source": [
    "coordenadas = [\n",
    "    (19.4, -99.1),\n",
    "    (40.7128, -74.0060),\n",
    "    (34.0522, -118.2437),\n",
    "]  # Lista de tuplas (latitud, longitud)\n",
    "\n",
    "for lat, lon in coordenadas:\n",
    "    print(f\"Latitud: {lat}, Longitud: {lon}\")"
   ]
  },
  {
   "cell_type": "markdown",
   "id": "3",
   "metadata": {},
   "source": [
    "## Ejemplo de cálculo en bucle"
   ]
  },
  {
   "cell_type": "code",
   "execution_count": null,
   "id": "4",
   "metadata": {},
   "outputs": [],
   "source": [
    "def calcular_distancia(lat1, lon1, lat2, lon2):\n",
    "    # Fórmula simplificada (Euclídea)\n",
    "    return ((lat2 - lat1) ** 2 + (lon2 - lon1) ** 2) ** 0.5\n",
    "\n",
    "\n",
    "referencia = (0, 0)\n",
    "\n",
    "for lat, lon in coordenadas:\n",
    "    distancia = calcular_distancia(referencia[0], referencia[1], lat, lon)\n",
    "    print(f\"Distancia desde {referencia} a ({lat}, {lon}): {distancia:.2f}\")"
   ]
  },
  {
   "cell_type": "markdown",
   "id": "5",
   "metadata": {},
   "source": [
    "## Uso de bucle while"
   ]
  },
  {
   "cell_type": "code",
   "execution_count": null,
   "id": "6",
   "metadata": {},
   "outputs": [],
   "source": [
    "contador = 0\n",
    "while contador < 3:\n",
    "    print(f\"Iteración {contador}\")\n",
    "    contador += 1"
   ]
  },
  {
   "cell_type": "markdown",
   "id": "7",
   "metadata": {},
   "source": [
    "## Sentencias de control"
   ]
  },
  {
   "cell_type": "code",
   "execution_count": null,
   "id": "8",
   "metadata": {},
   "outputs": [],
   "source": [
    "valor = 15\n",
    "if valor < 10:\n",
    "    print(\"Menor que 10\")\n",
    "elif valor < 20:\n",
    "    print(\"Entre 10 y 20\")\n",
    "else:\n",
    "    print(\"20 o más\")"
   ]
  },
  {
   "cell_type": "markdown",
   "id": "9",
   "metadata": {},
   "source": [
    "## Ejercicios\n",
    "\n",
    "1. Itera sobre una lista de nombres de ciudades y muestra cada una en mayúsculas.\n",
    "2. Calcula la distancia entre un punto de referencia y una lista de coordenadas usando un bucle.\n",
    "3. Usa un bucle `while` para sumar números hasta superar 100.\n",
    "4. Filtra una lista de ubicaciones y muestra solo las que están en México usando sentencias de control.\n",
    "5. Escribe una función que reciba una lista de coordenadas y devuelva otra lista con las cadenas WKT `POINT` correspondientes.\n",
    "\n",
    "## Resumen\n",
    "\n",
    "Los bucles y sentencias de control son herramientas clave para automatizar y analizar datos geoespaciales en Python. Dominar estos conceptos te permitirá procesar grandes volúmenes de información y tomar decisiones programáticas en tus proyectos geográficos."
   ]
  }
 ],
 "metadata": {
  "jupytext": {
   "default_lexer": "ipython3"
  },
  "kernelspec": {
   "display_name": "Python 3",
   "language": "python",
   "name": "python3"
  }
 },
 "nbformat": 4,
 "nbformat_minor": 5
}
