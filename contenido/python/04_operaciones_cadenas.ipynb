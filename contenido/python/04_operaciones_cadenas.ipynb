{
 "cells": [
  {
   "cell_type": "markdown",
   "id": "0",
   "metadata": {},
   "source": [
    "[![Open in Colab](https://colab.research.google.com/assets/colab-badge.svg)](https://colab.research.google.com/github/lalgonzales/geo-intro-py/blob/main/contenido/python/04_operaciones_cadenas.ipynb)\n",
    "\n",
    "# Operaciones con Cadenas en Python\n",
    "\n",
    "## Descripción\n",
    "Esta sección cubre operaciones básicas y avanzadas con cadenas de texto en Python, útiles para el manejo de atributos y datos geográficos.\n",
    "\n",
    "## Objetivos de aprendizaje\n",
    "- Crear y manipular cadenas en Python, incluyendo concatenación y repetición.\n",
    "- Aplicar métodos como `lower()`, `upper()`, `strip()`, `replace()`, `split()` para procesar datos geoespaciales.\n",
    "- Formatear cadenas usando `format()` y f-strings.\n",
    "- Extraer información de cadenas (parsing) y aplicar operaciones en tareas geoespaciales."
   ]
  },
  {
   "cell_type": "markdown",
   "id": "1",
   "metadata": {},
   "source": [
    "## Crear y manipular cadenas\n",
    "Las cadenas en Python son secuencias de caracteres. Puedes crearlas con comillas simples o dobles."
   ]
  },
  {
   "cell_type": "code",
   "execution_count": null,
   "id": "2",
   "metadata": {},
   "outputs": [],
   "source": [
    "location_name = \"Monte Everest\"  # Nombre de una ubicación"
   ]
  },
  {
   "cell_type": "markdown",
   "id": "3",
   "metadata": {},
   "source": [
    "Concatenar cadenas:"
   ]
  },
  {
   "cell_type": "code",
   "execution_count": null,
   "id": "4",
   "metadata": {},
   "outputs": [],
   "source": [
    "location_name_full = location_name + \", Nepal\"\n",
    "print(location_name_full)"
   ]
  },
  {
   "cell_type": "markdown",
   "id": "5",
   "metadata": {},
   "source": [
    "Repetir cadenas:"
   ]
  },
  {
   "cell_type": "code",
   "execution_count": null,
   "id": "6",
   "metadata": {},
   "outputs": [],
   "source": [
    "separador = \"-\" * 10\n",
    "print(separador)"
   ]
  },
  {
   "cell_type": "markdown",
   "id": "7",
   "metadata": {},
   "source": [
    "## Métodos comunes de cadenas\n",
    "Convertir a minúsculas y mayúsculas:"
   ]
  },
  {
   "cell_type": "code",
   "execution_count": null,
   "id": "8",
   "metadata": {},
   "outputs": [],
   "source": [
    "nombre = \"Ciudad de México\"\n",
    "print(nombre.lower())\n",
    "print(nombre.upper())"
   ]
  },
  {
   "cell_type": "markdown",
   "id": "9",
   "metadata": {},
   "source": [
    "Eliminar espacios al inicio y final:"
   ]
  },
  {
   "cell_type": "code",
   "execution_count": null,
   "id": "10",
   "metadata": {},
   "outputs": [],
   "source": [
    "ciudad = \"  Lima  \"\n",
    "print(ciudad.strip())"
   ]
  },
  {
   "cell_type": "markdown",
   "id": "11",
   "metadata": {},
   "source": [
    "Reemplazar texto:"
   ]
  },
  {
   "cell_type": "code",
   "execution_count": null,
   "id": "12",
   "metadata": {},
   "outputs": [],
   "source": [
    "pais = \"Estados Unidos\"\n",
    "print(pais.replace(\"Estados\", \"EEUU\"))"
   ]
  },
  {
   "cell_type": "markdown",
   "id": "13",
   "metadata": {},
   "source": [
    "Dividir cadenas:"
   ]
  },
  {
   "cell_type": "code",
   "execution_count": null,
   "id": "14",
   "metadata": {},
   "outputs": [],
   "source": [
    "coordenadas = \"19.4,-99.1\"\n",
    "lat, lon = coordenadas.split(\",\")\n",
    "print(lat, lon)"
   ]
  },
  {
   "cell_type": "markdown",
   "id": "15",
   "metadata": {},
   "source": [
    "## Formateo de cadenas\n",
    "Usando `format()`:"
   ]
  },
  {
   "cell_type": "code",
   "execution_count": null,
   "id": "16",
   "metadata": {},
   "outputs": [],
   "source": [
    "template = \"La ciudad de {} tiene una población de {} habitantes.\"\n",
    "print(template.format(\"Bogotá\", 8000000))"
   ]
  },
  {
   "cell_type": "markdown",
   "id": "17",
   "metadata": {},
   "source": [
    "Usando f-strings:"
   ]
  },
  {
   "cell_type": "code",
   "execution_count": null,
   "id": "18",
   "metadata": {},
   "outputs": [],
   "source": [
    "ciudad = \"Quito\"\n",
    "poblacion = 2800000\n",
    "print(f\"La ciudad de {ciudad} tiene una población de {poblacion} habitantes.\")"
   ]
  },
  {
   "cell_type": "markdown",
   "id": "19",
   "metadata": {},
   "source": [
    "## Parsing y extracción de información\n",
    "Extraer nombre y país de una cadena:"
   ]
  },
  {
   "cell_type": "code",
   "execution_count": null,
   "id": "20",
   "metadata": {},
   "outputs": [],
   "source": [
    "ubicacion = \"Cusco, Perú\"\n",
    "nombre_ciudad, pais = ubicacion.split(\", \")\n",
    "print(nombre_ciudad, pais)"
   ]
  },
  {
   "cell_type": "markdown",
   "id": "21",
   "metadata": {},
   "source": [
    "## Aplicación geoespacial: construir consulta SQL"
   ]
  },
  {
   "cell_type": "code",
   "execution_count": null,
   "id": "22",
   "metadata": {},
   "outputs": [],
   "source": [
    "tabla = \"ubicaciones\"\n",
    "condicion = \"pais = 'Perú'\"\n",
    "consulta = f\"SELECT * FROM {tabla} WHERE {condicion};\"\n",
    "print(consulta)"
   ]
  },
  {
   "cell_type": "markdown",
   "id": "23",
   "metadata": {},
   "source": [
    "## Ejercicios\n",
    "1. Crea una cadena con el nombre de una ciudad y conviértela a mayúsculas.\n",
    "2. Dada una cadena con formato \"latitud,longitud\", extrae ambos valores y conviértelos a float.\n",
    "3. Usa `replace()` para cambiar el nombre de un país en una cadena.\n",
    "4. Construye una consulta SQL para seleccionar ciudades de un país específico usando f-strings.\n",
    "\n",
    "## Resumen\n",
    "Dominar las operaciones con cadenas te permitirá limpiar, transformar y analizar datos geográficos de manera eficiente en Python. Practica con tus propios ejemplos y explora más métodos de cadenas en la documentación oficial.\n",
    "\n",
    "Ejemplo de construcción de una cadena para una consulta SQL geoespacial:"
   ]
  },
  {
   "cell_type": "code",
   "execution_count": null,
   "id": "24",
   "metadata": {},
   "outputs": [],
   "source": [
    "table_name = \"locations\"\n",
    "condition = \"country = 'Nepal'\"\n",
    "query = f\"SELECT * FROM {table_name} WHERE {condition}\"\n",
    "print(query)"
   ]
  },
  {
   "cell_type": "markdown",
   "id": "25",
   "metadata": {},
   "source": [
    "## Métodos útiles para cadenas\n",
    "\n",
    "Algunos métodos comunes para procesar texto en Python:"
   ]
  },
  {
   "cell_type": "code",
   "execution_count": null,
   "id": "26",
   "metadata": {},
   "outputs": [],
   "source": [
    "texto = \"  Ciudad de México  \"\n",
    "print(texto.lower())  # minúsculas\n",
    "print(texto.upper())  # mayúsculas\n",
    "print(texto.strip())  # eliminar espacios\n",
    "print(texto.replace(\"México\", \"CDMX\"))  # reemplazar\n",
    "print(texto.split())  # dividir en palabras"
   ]
  },
  {
   "cell_type": "markdown",
   "id": "27",
   "metadata": {},
   "source": [
    "## Formateo de cadenas\n",
    "\n",
    "Puedes insertar variables en cadenas usando f-strings:"
   ]
  },
  {
   "cell_type": "code",
   "execution_count": null,
   "id": "28",
   "metadata": {},
   "outputs": [],
   "source": [
    "ciudad = \"Puebla\"\n",
    "pais = \"México\"\n",
    "frase = f\"La ciudad de {ciudad} está en {pais}.\"\n",
    "print(frase)"
   ]
  },
  {
   "cell_type": "markdown",
   "id": "29",
   "metadata": {},
   "source": [
    "## Extracción y parsing de información\n",
    "\n",
    "Las operaciones con cadenas permiten extraer datos útiles, por ejemplo, coordenadas de un texto:"
   ]
  },
  {
   "cell_type": "code",
   "execution_count": null,
   "id": "30",
   "metadata": {},
   "outputs": [],
   "source": [
    "coordenadas = \"19.4,-99.1\"\n",
    "lat, lon = coordenadas.split(\",\")\n",
    "print(f\"Latitud: {lat}, Longitud: {lon}\")"
   ]
  },
  {
   "cell_type": "markdown",
   "id": "31",
   "metadata": {},
   "source": [
    "## Ejercicios\n",
    "\n",
    "1. Crea una cadena con el nombre de una ciudad. Convierte la cadena a minúsculas y luego a mayúsculas.\n",
    "2. Toma una cadena con el formato 'latitud, longitud' (ejemplo: '19.4N, 99.1W') y extrae los valores numéricos de latitud y longitud.\n",
    "3. Crea una cadena formateada que incluya el nombre de una ubicación y sus coordenadas. Usa tanto el método `format()` como f-strings.\n",
    "4. Reemplaza una subcadena en el nombre de un lugar (por ejemplo, cambia 'Ciudad de México' por 'CDMX') y muestra el resultado.\n",
    "5. Dada una lista de direcciones en el formato \"Calle, Ciudad, País\", escribe una función que devuelva un diccionario con las claves `calle`, `ciudad` y `país`.\n",
    "6. Escribe una función que convierta un par de coordenadas de latitud y longitud en una cadena WKT `POINT`."
   ]
  },
  {
   "cell_type": "code",
   "execution_count": null,
   "id": "32",
   "metadata": {},
   "outputs": [],
   "source": [
    "# Ejemplo de función para WKT\n",
    "\n",
    "\n",
    "def coordenadas_a_wkt(lat, lon):\n",
    "    return f\"POINT({lon} {lat})\"\n",
    "\n",
    "\n",
    "print(coordenadas_a_wkt(19.4, -99.1))"
   ]
  },
  {
   "cell_type": "markdown",
   "id": "33",
   "metadata": {},
   "source": [
    "## Resumen\n",
    "\n",
    "Las operaciones con cadenas son esenciales en la programación geoespacial, especialmente al trabajar con datos textuales como nombres de lugares, coordenadas y atributos. Dominar estas técnicas te permitirá manipular y analizar información geográfica de manera eficiente en tus proyectos."
   ]
  }
 ],
 "metadata": {
  "jupytext": {
   "default_lexer": "ipython3"
  },
  "kernelspec": {
   "display_name": "Python 3",
   "language": "python",
   "name": "python3"
  }
 },
 "nbformat": 4,
 "nbformat_minor": 5
}
