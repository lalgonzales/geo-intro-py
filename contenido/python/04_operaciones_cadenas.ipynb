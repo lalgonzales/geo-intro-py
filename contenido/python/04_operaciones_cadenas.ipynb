{
 "cells": [
  {
   "cell_type": "markdown",
   "id": "0",
   "metadata": {},
   "source": [
    "[![Open in Colab](https://colab.research.google.com/assets/colab-badge.svg)](https://colab.research.google.com/github/lalgonzales/geo-intro-py/blob/main/contenido/python/04_operaciones_cadenas.ipynb)\n",
    "\n",
    "# Operaciones con Cadenas en Python\n",
    "\n",
    "## Descripción\n",
    "Esta sección cubre diversas operaciones con cadenas de texto en Python, enfocándose en su aplicación en el contexto geoespacial. Las cadenas son fundamentales para manejar datos textuales, como nombres de lugares geográficos, coordenadas y datos extraídos de archivos. Dominar las operaciones con cadenas te permite manipular y analizar información geográfica de manera eficiente, lo cual es esencial para tareas como limpieza de datos, formateo, parsing y hasta geocodificación.\n",
    "\n",
    "## Objetivos de aprendizaje\n",
    "Al finalizar esta sección, deberías ser capaz de:\n",
    "- Crear y manipular cadenas en Python, incluyendo concatenación y repetición.\n",
    "- Aplicar métodos como `lower()`, `upper()`, `strip()`, `replace()`, `split()` para procesar datos geoespaciales.\n",
    "- Formatear cadenas usando el método `format()` y f-strings para incluir datos variables.\n",
    "- Extraer información específica de cadenas, como coordenadas o nombres de lugares.\n",
    "- Utilizar operaciones con cadenas en tareas geoespaciales prácticas, mejorando tu capacidad para trabajar y gestionar datos geográficos."
   ]
  },
  {
   "cell_type": "markdown",
   "id": "1",
   "metadata": {},
   "source": [
    "## Crear y manipular cadenas\n",
    "Las cadenas en Python son secuencias de caracteres. Puedes crearlas con comillas simples o dobles."
   ]
  },
  {
   "cell_type": "code",
   "execution_count": null,
   "id": "2",
   "metadata": {},
   "outputs": [],
   "source": [
    "nombre_ubicacion = \"Monte Everest\"  # Nombre de una ubicación"
   ]
  },
  {
   "cell_type": "markdown",
   "id": "3",
   "metadata": {},
   "source": [
    "Concatenar cadenas:"
   ]
  },
  {
   "cell_type": "code",
   "execution_count": null,
   "id": "4",
   "metadata": {},
   "outputs": [],
   "source": [
    "nombre_ubicacion_completo = nombre_ubicacion + \", Nepal\"\n",
    "print(nombre_ubicacion_completo)"
   ]
  },
  {
   "cell_type": "markdown",
   "id": "5",
   "metadata": {},
   "source": [
    "Repetir cadenas:"
   ]
  },
  {
   "cell_type": "code",
   "execution_count": null,
   "id": "6",
   "metadata": {},
   "outputs": [],
   "source": [
    "separador = \"-\" * 10\n",
    "print(separador)"
   ]
  },
  {
   "cell_type": "markdown",
   "id": "7",
   "metadata": {},
   "source": [
    "Construir una consulta SQL básica para seleccionar datos de una base geoespacial:"
   ]
  },
  {
   "cell_type": "code",
   "execution_count": null,
   "id": "8",
   "metadata": {},
   "outputs": [],
   "source": [
    "nombre_tabla = \"ubicaciones\"\n",
    "condicion = \"pais = 'Nepal'\"\n",
    "consulta_sql = f\"SELECT * FROM {nombre_tabla} WHERE {condicion};\"\n",
    "print(consulta_sql)"
   ]
  },
  {
   "cell_type": "markdown",
   "id": "9",
   "metadata": {},
   "source": [
    "## Métodos de cadenas para datos geoespaciales\n",
    "\n",
    "Python ofrece varios métodos integrados para manipular cadenas. Algunos de los más usados son:\n",
    "\n",
    "- `lower()`, `upper()`: Convierte cadenas a minúsculas o mayúsculas.\n",
    "- `strip()`: Elimina espacios al inicio y final.\n",
    "- `lstrip()`, `rstrip()`: Elimina espacios solo al inicio o solo al final.\n",
    "- `replace()`: Reemplaza una subcadena por otra.\n",
    "- `split()`: Divide una cadena en una lista de subcadenas usando un delimitador.\n",
    "- `join()`: Une una lista de cadenas en una sola cadena usando un delimitador.\n",
    "\n",
    "\n",
    "\n",
    "Convertir a mayúsculas:"
   ]
  },
  {
   "cell_type": "code",
   "execution_count": null,
   "id": "10",
   "metadata": {},
   "outputs": [],
   "source": [
    "nombre_ubicacion = \"Ciudad de México\"\n",
    "nombre_ubicacion_mayus = nombre_ubicacion.upper()\n",
    "print(nombre_ubicacion_mayus)  # Convertir a mayúsculas"
   ]
  },
  {
   "cell_type": "markdown",
   "id": "11",
   "metadata": {},
   "source": [
    "Eliminar espacios al inicio y final:"
   ]
  },
  {
   "cell_type": "code",
   "execution_count": null,
   "id": "12",
   "metadata": {},
   "outputs": [],
   "source": [
    "nombre_ubicacion_limpio = nombre_ubicacion.strip()\n",
    "print(nombre_ubicacion_limpio)  # Eliminar espacios"
   ]
  },
  {
   "cell_type": "markdown",
   "id": "13",
   "metadata": {},
   "source": [
    "Reemplazar texto:"
   ]
  },
  {
   "cell_type": "code",
   "execution_count": null,
   "id": "14",
   "metadata": {},
   "outputs": [],
   "source": [
    "nombre_ubicacion_reemplazado = nombre_ubicacion.replace(\"México\", \"Lima\")\n",
    "print(nombre_ubicacion_reemplazado)  # Reemplazar 'México' por 'Lima'"
   ]
  },
  {
   "cell_type": "markdown",
   "id": "15",
   "metadata": {},
   "source": [
    "Dividir cadenas:"
   ]
  },
  {
   "cell_type": "code",
   "execution_count": null,
   "id": "16",
   "metadata": {},
   "outputs": [],
   "source": [
    "nombre_ubicacion_completo = \"Ciudad de México, Lima\"\n",
    "partes_ubicacion = nombre_ubicacion_completo.split(\", \")\n",
    "print(partes_ubicacion)  # Dividir la cadena en una lista"
   ]
  },
  {
   "cell_type": "code",
   "execution_count": null,
   "id": "17",
   "metadata": {},
   "outputs": [],
   "source": [
    "paises = [\" nepal\", \"INDIA \", \"china \", \"Bhutan\"]\n",
    "paises_normalizados = [pais.strip().title() for pais in paises]\n",
    "print(paises_normalizados)  # Elimina espacios y capitaliza"
   ]
  },
  {
   "cell_type": "markdown",
   "id": "18",
   "metadata": {},
   "source": [
    "Esta operación elimina espacios y asegura capitalización consistente.\n",
    "\n",
    "## Formateo de cadenas\n",
    "\n",
    "El formateo de cadenas es esencial cuando preparas datos para mostrar o necesitas incluir valores variables en tus textos. Puedes usar el método `format()` o f-strings (a partir de Python 3.6) para insertar valores en cadenas de manera flexible y legible.\n",
    "\n",
    "Formateo de coordenadas:"
   ]
  },
  {
   "cell_type": "code",
   "execution_count": null,
   "id": "19",
   "metadata": {},
   "outputs": [],
   "source": [
    "latitud = 27.9881\n",
    "longitud = 86.9250\n",
    "coordenadas_formateadas = \"Coordenadas: ({}, {})\".format(latitud, longitud)\n",
    "print(coordenadas_formateadas)\n",
    "coordenadas_fstring = f\"Coordenadas: ({latitud}, {longitud})\"\n",
    "print(coordenadas_fstring)"
   ]
  },
  {
   "cell_type": "markdown",
   "id": "20",
   "metadata": {},
   "source": [
    "Texto WKT (Well-Known Text) para geometría:"
   ]
  },
  {
   "cell_type": "code",
   "execution_count": null,
   "id": "21",
   "metadata": {},
   "outputs": [],
   "source": [
    "wkt_punto = f\"POINT({longitud} {latitud})\"\n",
    "print(wkt_punto)"
   ]
  },
  {
   "cell_type": "markdown",
   "id": "22",
   "metadata": {},
   "source": [
    "## Parsing y extracción de información\n",
    "\n",
    "A menudo necesitarás extraer información específica de cadenas, especialmente con datos geográficos. Por ejemplo, puedes extraer coordenadas de una cadena formateada."
   ]
  },
  {
   "cell_type": "code",
   "execution_count": null,
   "id": "23",
   "metadata": {},
   "outputs": [],
   "source": [
    "cadena_coordenadas = \"27.9881N, 86.9250E\"\n",
    "lat_str, lon_str = cadena_coordenadas.split(\", \")\n",
    "latitud = float(lat_str[:-1])  # Convierte a float y elimina la 'N'\n",
    "longitud = float(lon_str[:-1])  # Convierte a float y elimina la 'E'\n",
    "print(f\"Coordenadas extraídas: ({latitud}, {longitud})\")"
   ]
  },
  {
   "cell_type": "markdown",
   "id": "24",
   "metadata": {},
   "source": [
    "Si tienes una lista de direcciones en el formato \"Calle, Ciudad, País\", puedes extraer cada componente:"
   ]
  },
  {
   "cell_type": "code",
   "execution_count": null,
   "id": "25",
   "metadata": {},
   "outputs": [],
   "source": [
    "direccion = \"123 Everest Rd, Kathmandu, Nepal\"\n",
    "calle, ciudad, pais = direccion.split(\", \")\n",
    "print(f\"Calle: {calle}, Ciudad: {ciudad}, País: {pais}\")"
   ]
  },
  {
   "cell_type": "markdown",
   "id": "26",
   "metadata": {},
   "source": [
    "## Ejercicios\n",
    "\n",
    "1. Crea una cadena con el nombre de una ciudad. Convierte la cadena a minúsculas y luego a mayúsculas.\n",
    "2. Toma una cadena con el formato 'latitud, longitud' (ejemplo: '19.4N, 99.1W') y extrae los valores numéricos de latitud y longitud.\n",
    "3. Crea una cadena formateada que incluya el nombre de una ubicación y sus coordenadas. Usa tanto el método `format()` como f-strings.\n",
    "4. Reemplaza una subcadena en el nombre de un lugar (por ejemplo, cambia 'Ciudad de México' por 'CDMX') y muestra el resultado.\n",
    "5. Dada una lista de direcciones en el formato \"Calle, Ciudad, País\", escribe una función que devuelva un diccionario con las claves `calle`, `ciudad` y `país`.\n",
    "6. Escribe una función que convierta un par de coordenadas de latitud y longitud en una cadena WKT `POINT`."
   ]
  },
  {
   "cell_type": "code",
   "execution_count": null,
   "id": "27",
   "metadata": {},
   "outputs": [],
   "source": []
  },
  {
   "cell_type": "markdown",
   "id": "28",
   "metadata": {},
   "source": [
    "## Resumen\n",
    "\n",
    "Las operaciones con cadenas son esenciales en la programación geoespacial, especialmente al trabajar con datos textuales como nombres de lugares, coordenadas y atributos. Dominar estas técnicas te permitirá manipular y analizar información geográfica de manera eficiente en tus proyectos, ya sea formateando salidas, analizando entradas o integrando con bases de datos geoespaciales."
   ]
  }
 ],
 "metadata": {
  "jupytext": {
   "default_lexer": "ipython3"
  },
  "kernelspec": {
   "display_name": "Python 3",
   "language": "python",
   "name": "python3"
  }
 },
 "nbformat": 4,
 "nbformat_minor": 5
}
