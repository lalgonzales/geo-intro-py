{
 "cells": [
  {
   "cell_type": "markdown",
   "id": "0",
   "metadata": {},
   "source": [
    "# Estructuras de Datos en Python\n",
    "\n",
    "[![Open in Colab](https://colab.research.google.com/assets/colab-badge.svg)](https://colab.research.google.com/github/lalgonzales/geo-intro-py/blob/main/contenido/python/03_estructuras_datos.ipynb)\n",
    "\n",
    "## Descripción\n",
    "Esta sección presenta las estructuras de datos más utilizadas en Python: tuplas, listas, conjuntos y diccionarios, con ejemplos aplicados a datos geoespaciales.\n",
    "\n",
    "## Objetivos de aprendizaje\n",
    "- Comprender y utilizar tuplas, listas, conjuntos y diccionarios en Python.\n",
    "- Aplicar estas estructuras en la manipulación de datos geográficos (coordenadas, trayectorias, atributos, regiones únicas).\n",
    "- Diferenciar entre estructuras mutables e inmutables y elegir la adecuada para cada tarea.\n",
    "- Realizar operaciones comunes: indexado, slicing, agregar/eliminar elementos, actualizar valores.\n",
    "- Usar diccionarios para gestionar atributos de entidades geográficas."
   ]
  },
  {
   "cell_type": "markdown",
   "id": "1",
   "metadata": {},
   "source": [
    "## Tuplas\n",
    "Las tuplas son secuencias inmutables, útiles para almacenar colecciones fijas como coordenadas."
   ]
  },
  {
   "cell_type": "code",
   "execution_count": null,
   "id": "2",
   "metadata": {},
   "outputs": [],
   "source": [
    "punto = (\n",
    "    19.4,\n",
    "    -99.1,\n",
    ")  # Tupla representando un punto geográfico (latitud, longitud)"
   ]
  },
  {
   "cell_type": "markdown",
   "id": "3",
   "metadata": {},
   "source": [
    "Acceso por índice:"
   ]
  },
  {
   "cell_type": "code",
   "execution_count": null,
   "id": "4",
   "metadata": {},
   "outputs": [],
   "source": [
    "latitud = punto[0]\n",
    "longitud = punto[1]\n",
    "print(f\"Latitud: {latitud}, Longitud: {longitud}\")"
   ]
  },
  {
   "cell_type": "markdown",
   "id": "5",
   "metadata": {},
   "source": [
    "## Listas\n",
    "Las listas son secuencias ordenadas y mutables. Permiten almacenar trayectorias, límites, o colecciones de puntos."
   ]
  },
  {
   "cell_type": "code",
   "execution_count": null,
   "id": "6",
   "metadata": {},
   "outputs": [],
   "source": [
    "trayectoria = [\n",
    "    (19.4, -99.1),\n",
    "    (40.7128, -74.0060),\n",
    "    (34.0522, -118.2437),\n",
    "]"
   ]
  },
  {
   "cell_type": "markdown",
   "id": "7",
   "metadata": {},
   "source": [
    "Agregar elementos:"
   ]
  },
  {
   "cell_type": "code",
   "execution_count": null,
   "id": "8",
   "metadata": {},
   "outputs": [],
   "source": [
    "trayectoria.append((51.5074, -0.1278))\n",
    "print(\"Trayectoria actualizada:\", trayectoria)"
   ]
  },
  {
   "cell_type": "markdown",
   "id": "9",
   "metadata": {},
   "source": [
    "Slicing (sublistas):"
   ]
  },
  {
   "cell_type": "code",
   "execution_count": null,
   "id": "10",
   "metadata": {},
   "outputs": [],
   "source": [
    "print(\"Subtrayectoria:\", trayectoria[:2])"
   ]
  },
  {
   "cell_type": "markdown",
   "id": "11",
   "metadata": {},
   "source": [
    "## Conjuntos\n",
    "Los conjuntos son colecciones no ordenadas de elementos únicos. Útiles para regiones o categorías sin duplicados."
   ]
  },
  {
   "cell_type": "code",
   "execution_count": null,
   "id": "12",
   "metadata": {},
   "outputs": [],
   "source": [
    "regiones = set([\"México\", \"EEUU\", \"Europa\"])\n",
    "regiones.add(\"Asia\")\n",
    "regiones.add(\"Europa\")  # No se duplica\n",
    "print(\"Regiones:\", regiones)"
   ]
  },
  {
   "cell_type": "markdown",
   "id": "13",
   "metadata": {},
   "source": [
    "## Diccionarios\n",
    "Los diccionarios almacenan pares clave-valor, ideales para atributos de entidades geográficas."
   ]
  },
  {
   "cell_type": "code",
   "execution_count": null,
   "id": "14",
   "metadata": {},
   "outputs": [],
   "source": [
    "atributos = {\n",
    "    \"nombre\": \"Ciudad de México\",\n",
    "    \"poblacion\": 9000000,\n",
    "    \"coords\": [19.4, -99.1],\n",
    "}\n",
    "print(atributos)"
   ]
  },
  {
   "cell_type": "markdown",
   "id": "15",
   "metadata": {},
   "source": [
    "Acceso y actualización de valores:"
   ]
  },
  {
   "cell_type": "code",
   "execution_count": null,
   "id": "16",
   "metadata": {},
   "outputs": [],
   "source": [
    "print(atributos[\"nombre\"])\n",
    "atributos[\"poblacion\"] = 9500000\n",
    "print(atributos)"
   ]
  },
  {
   "cell_type": "markdown",
   "id": "17",
   "metadata": {},
   "source": [
    "## Ejemplo práctico: manipulación de estructuras\n",
    "Supón que tienes una lista de puntos y quieres obtener solo las latitudes:"
   ]
  },
  {
   "cell_type": "code",
   "execution_count": null,
   "id": "18",
   "metadata": {},
   "outputs": [],
   "source": [
    "puntos = [\n",
    "    (19.4, -99.1),\n",
    "    (40.7128, -74.0060),\n",
    "    (34.0522, -118.2437),\n",
    "    (51.5074, -0.1278),\n",
    "]\n",
    "latitudes = [p[0] for p in puntos]\n",
    "print(latitudes)"
   ]
  },
  {
   "cell_type": "markdown",
   "id": "19",
   "metadata": {},
   "source": [
    "## Ejercicios\n",
    "1. Crea una tupla con las coordenadas de tu ciudad favorita.\n",
    "2. Crea una lista de trayectorias entre varias ciudades y agrega una más.\n",
    "3. Usa un conjunto para almacenar países visitados y agrega uno nuevo.\n",
    "4. Crea un diccionario con atributos de una ciudad y actualiza su población.\n",
    "\n",
    "## Resumen\n",
    "Dominar las estructuras de datos de Python es clave para manipular información geoespacial de forma eficiente. Practica con tus propios ejemplos y explora operaciones adicionales como eliminar elementos, comprobar pertenencia (`in`), y combinar estructuras."
   ]
  }
 ],
 "metadata": {
  "jupytext": {
   "default_lexer": "ipython3"
  },
  "kernelspec": {
   "display_name": "Python 3",
   "language": "python",
   "name": "python3"
  }
 },
 "nbformat": 4,
 "nbformat_minor": 5
}
