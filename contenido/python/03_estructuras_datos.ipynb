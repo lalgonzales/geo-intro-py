{
 "cells": [
  {
   "cell_type": "markdown",
   "id": "0",
   "metadata": {},
   "source": [
    "# Estructuras de Datos en Python\n",
    "\n",
    "[![Open in Colab](https://colab.research.google.com/assets/colab-badge.svg)](https://colab.research.google.com/github/lalgonzales/geo-intro-py/blob/main/contenido/python/03_estructuras_datos.ipynb)\n",
    "\n",
    "## Descripción\n",
    "En esta lección exploraremos las estructuras de datos fundamentales de Python: tuplas, listas, conjuntos y diccionarios. Estas estructuras son herramientas esenciales en la programación geoespacial, ya que permiten almacenar, gestionar y manipular distintos tipos de datos de manera eficiente. Al dominar estas estructuras, podrás trabajar con conjuntos de datos geoespaciales complejos y realizar análisis avanzados.\n",
    "\n",
    "## Objetivos de aprendizaje\n",
    "- Comprender las características y casos de uso de tuplas, listas, conjuntos y diccionarios en Python.\n",
    "- Aplicar estas estructuras para almacenar y manipular datos geográficos, como coordenadas, trayectorias y atributos.\n",
    "- Diferenciar entre estructuras mutables e inmutables y elegir la adecuada para cada tarea geoespacial.\n",
    "- Realizar operaciones comunes: indexado, slicing, agregar/eliminar elementos y actualizar valores.\n",
    "- Utilizar diccionarios para gestionar atributos de entidades geográficas y entender la importancia de los pares clave-valor."
   ]
  },
  {
   "cell_type": "markdown",
   "id": "1",
   "metadata": {},
   "source": [
    "## Tuplas\n",
    "\n",
    "Las tuplas son secuencias inmutables, es decir, una vez creadas no se pueden modificar. Son útiles para almacenar colecciones fijas de elementos, como las coordenadas de un punto geográfico (latitud, longitud)."
   ]
  },
  {
   "cell_type": "code",
   "execution_count": null,
   "id": "2",
   "metadata": {},
   "outputs": [],
   "source": [
    "punto = (\n",
    "    19.4,\n",
    "    -99.1,\n",
    ")  # Tupla representando un punto geográfico (latitud, longitud)"
   ]
  },
  {
   "cell_type": "markdown",
   "id": "3",
   "metadata": {},
   "source": [
    "Puedes acceder a los elementos de una tupla usando índices:"
   ]
  },
  {
   "cell_type": "code",
   "execution_count": null,
   "id": "4",
   "metadata": {},
   "outputs": [],
   "source": [
    "latitud = punto[0]\n",
    "longitud = punto[1]\n",
    "print(f\"Latitud: {latitud}, Longitud: {longitud}\")"
   ]
  },
  {
   "cell_type": "markdown",
   "id": "5",
   "metadata": {},
   "source": [
    "## Listas\n",
    "\n",
    "Las listas son secuencias ordenadas y mutables, lo que significa que puedes cambiar, agregar o eliminar elementos después de su creación. Son muy flexibles y pueden almacenar distintos tipos de datos, por ejemplo, una lista de coordenadas que representa una trayectoria o límite."
   ]
  },
  {
   "cell_type": "code",
   "execution_count": null,
   "id": "6",
   "metadata": {},
   "outputs": [],
   "source": [
    "trayectoria = [\n",
    "    (19.4, -99.1),\n",
    "    (40.7128, -74.0060),\n",
    "    (34.0522, -118.2437),\n",
    "]"
   ]
  },
  {
   "cell_type": "markdown",
   "id": "7",
   "metadata": {},
   "source": [
    "Puedes agregar un nuevo punto a la trayectoria:"
   ]
  },
  {
   "cell_type": "code",
   "execution_count": null,
   "id": "8",
   "metadata": {},
   "outputs": [],
   "source": [
    "trayectoria.append((51.5074, -0.1278))\n",
    "print(\"Trayectoria actualizada:\", trayectoria)"
   ]
  },
  {
   "cell_type": "markdown",
   "id": "9",
   "metadata": {},
   "source": [
    "Las listas permiten realizar operaciones como slicing, que te permite acceder a una sublista:"
   ]
  },
  {
   "cell_type": "code",
   "execution_count": null,
   "id": "10",
   "metadata": {},
   "outputs": [],
   "source": [
    "subtrayectoria = trayectoria[:2]\n",
    "print(\"Subtrayectoria:\", subtrayectoria)"
   ]
  },
  {
   "cell_type": "markdown",
   "id": "11",
   "metadata": {},
   "source": [
    "## Conjuntos\n",
    "\n",
    "Los conjuntos son colecciones no ordenadas de elementos únicos. Son útiles cuando necesitas almacenar elementos sin duplicados, por ejemplo, regiones geográficas visitadas en una encuesta."
   ]
  },
  {
   "cell_type": "code",
   "execution_count": null,
   "id": "12",
   "metadata": {},
   "outputs": [],
   "source": [
    "regiones = [\"México\", \"EEUU\", \"Europa\"]\n",
    "regiones = set(regiones)"
   ]
  },
  {
   "cell_type": "markdown",
   "id": "13",
   "metadata": {},
   "source": [
    "Puedes agregar una nueva región al conjunto:"
   ]
  },
  {
   "cell_type": "code",
   "execution_count": null,
   "id": "14",
   "metadata": {},
   "outputs": [],
   "source": [
    "regiones.add(\"Asia\")\n",
    "print(\"Regiones actualizadas:\", regiones)"
   ]
  },
  {
   "cell_type": "markdown",
   "id": "15",
   "metadata": {},
   "source": [
    "Si intentas agregar una región que ya existe, el conjunto no cambiará:"
   ]
  },
  {
   "cell_type": "code",
   "execution_count": null,
   "id": "16",
   "metadata": {},
   "outputs": [],
   "source": [
    "regiones.add(\"Europa\")  # Intento de duplicado\n",
    "print(\"Regiones tras intentar duplicado:\", regiones)"
   ]
  },
  {
   "cell_type": "markdown",
   "id": "17",
   "metadata": {},
   "source": [
    "## Diccionarios\n",
    "\n",
    "Los diccionarios son colecciones de pares clave-valor, donde cada clave es única. Son muy útiles para almacenar datos asociados a identificadores específicos, como los atributos de una ciudad."
   ]
  },
  {
   "cell_type": "code",
   "execution_count": null,
   "id": "18",
   "metadata": {},
   "outputs": [],
   "source": [
    "atributos_ciudad = {\n",
    "    \"nombre\": \"Ciudad de México\",\n",
    "    \"poblacion\": 9000000,\n",
    "    \"coordenadas\": (19.4, -99.1),\n",
    "}  # Diccionario con atributos de una ciudad\n",
    "print(atributos_ciudad)"
   ]
  },
  {
   "cell_type": "markdown",
   "id": "19",
   "metadata": {},
   "source": [
    "Puedes acceder a los valores asociados a una clave:"
   ]
  },
  {
   "cell_type": "code",
   "execution_count": null,
   "id": "20",
   "metadata": {},
   "outputs": [],
   "source": [
    "nombre_ciudad = atributos_ciudad[\"nombre\"]\n",
    "poblacion_ciudad = atributos_ciudad[\"poblacion\"]\n",
    "print(f\"Ciudad: {nombre_ciudad}, Población: {poblacion_ciudad}\")"
   ]
  },
  {
   "cell_type": "markdown",
   "id": "21",
   "metadata": {},
   "source": [
    "También puedes agregar o actualizar pares clave-valor:"
   ]
  },
  {
   "cell_type": "code",
   "execution_count": null,
   "id": "22",
   "metadata": {},
   "outputs": [],
   "source": [
    "atributos_ciudad[\"area_km2\"] = 1485  # Ejemplo: área de la ciudad en km²\n",
    "print(\"Atributos de la ciudad actualizados:\", atributos_ciudad)"
   ]
  },
  {
   "cell_type": "markdown",
   "id": "23",
   "metadata": {},
   "source": [
    "## Ejemplo práctico: manipulación de estructuras\n",
    "\n",
    "Supón que tienes una lista de puntos y quieres obtener solo las latitudes:"
   ]
  },
  {
   "cell_type": "code",
   "execution_count": null,
   "id": "24",
   "metadata": {},
   "outputs": [],
   "source": [
    "puntos = [\n",
    "    (19.4, -99.1),\n",
    "    (40.7128, -74.0060),\n",
    "    (34.0522, -118.2437),\n",
    "    (51.5074, -0.1278),\n",
    "]\n",
    "latitudes = [p[0] for p in puntos]\n",
    "print(latitudes)"
   ]
  },
  {
   "cell_type": "markdown",
   "id": "25",
   "metadata": {},
   "source": [
    "## Ejercicios\n",
    "\n",
    "1. Crea una tupla con las coordenadas de tu ciudad favorita.\n",
    "2. Crea una lista de trayectorias entre varias ciudades y agrega una más.\n",
    "3. Usa un conjunto para almacenar países visitados y agrega uno nuevo.\n",
    "4. Crea un diccionario con atributos de una ciudad y actualiza su población.\n",
    "5. Crea un diccionario para almacenar atributos de una entidad geográfica (por ejemplo, un río o una montaña). Incluye claves para el nombre, longitud y ubicación. Luego, agrega un atributo adicional (por ejemplo, la fuente del río o la altura de la montaña) y muestra el diccionario."
   ]
  },
  {
   "cell_type": "code",
   "execution_count": null,
   "id": "26",
   "metadata": {},
   "outputs": [],
   "source": [
    "# Ejemplo de ejercicio adicional\n",
    "rio = {\n",
    "    \"nombre\": \"Río Bravo\",\n",
    "    \"longitud_km\": 3034,\n",
    "    \"ubicacion\": \"Norte de México y sur de EEUU\",\n",
    "}\n",
    "rio[\"fuente\"] = \"Montañas de San Juan\"\n",
    "print(rio)"
   ]
  },
  {
   "cell_type": "markdown",
   "id": "27",
   "metadata": {},
   "source": [
    "## Resumen\n",
    "\n",
    "Dominar y utilizar las estructuras de datos de Python como tuplas, listas, conjuntos y diccionarios es fundamental en la programación geoespacial. Estas estructuras ofrecen flexibilidad y funcionalidad para gestionar y manipular datos espaciales de manera eficiente.\n",
    "\n",
    "Continúa explorando estas estructuras aplicándolas en tus propios proyectos y análisis geoespaciales."
   ]
  }
 ],
 "metadata": {
  "jupytext": {
   "default_lexer": "ipython3"
  },
  "kernelspec": {
   "display_name": "Python 3",
   "language": "python",
   "name": "python3"
  }
 },
 "nbformat": 4,
 "nbformat_minor": 5
}
