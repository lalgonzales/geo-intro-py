{
 "cells": [
  {
   "cell_type": "markdown",
   "id": "0",
   "metadata": {},
   "source": [
    "[![Open in Colab](https://colab.research.google.com/assets/colab-badge.svg)](https://colab.research.google.com/github/lalgonzales/geo-intro-py/blob/main/contenido/python/05_bucles.ipynb)\n",
    "\n",
    "# Bucles y Sentencias de Control en Python\n",
    "\n",
    "## Descripción\n",
    "Esta sección introduce bucles y sentencias de control en Python, enfocándose en sus aplicaciones en la programación geoespacial. Los bucles y sentencias de control son herramientas esenciales para automatizar tareas repetitivas, tomar decisiones basadas en condiciones de datos y procesar eficientemente grandes conjuntos de datos geoespaciales. Al dominar estos conceptos, podrás manejar tareas de análisis geoespacial complejas con mayor eficiencia y precisión.\n",
    "\n",
    "## Objetivos de aprendizaje\n",
    "- Utilizar bucles for y while para procesar listas y colecciones de datos.\n",
    "- Aplicar sentencias de control para tomar decisiones en el flujo del programa.\n",
    "- Combinar bucles y control de flujo para filtrar, procesar y analizar datos geoespaciales.\n",
    "- Automatizar tareas repetitivas en flujos de trabajo geográficos.\n",
    "- Desarrollar la capacidad para automatizar tareas repetitivas geoespaciales, haciendo que tus flujos de trabajo de procesamiento de datos sean más eficientes."
   ]
  },
  {
   "cell_type": "markdown",
   "id": "1",
   "metadata": {},
   "source": [
    "## Bucles for\n",
    "Los bucles for permiten iterar sobre una secuencia (como una lista, tupla o cadena) y ejecutar un bloque de código para cada elemento de la secuencia. Esto es particularmente útil en la programación geoespacial cuando necesitas procesar múltiples características o coordenadas."
   ]
  },
  {
   "cell_type": "code",
   "execution_count": null,
   "id": "2",
   "metadata": {},
   "outputs": [],
   "source": [
    "coordenadas = [\n",
    "    (35.6895, 139.6917),\n",
    "    (34.0522, -118.2437),\n",
    "    (51.5074, -0.1278),\n",
    "]\n",
    "for lat, lon in coordenadas:\n",
    "    print(f\"Latitud: {lat}, Longitud: {lon}\")"
   ]
  },
  {
   "cell_type": "markdown",
   "id": "3",
   "metadata": {},
   "source": [
    "Asumiendo que tienes una función para calcular distancias, puedes usar un bucle para calcular distancias desde un punto de referencia."
   ]
  },
  {
   "cell_type": "code",
   "execution_count": null,
   "id": "4",
   "metadata": {},
   "outputs": [],
   "source": [
    "def calcular_distancia(lat1, lon1, lat2, lon2):\n",
    "    # Placeholder para lógica de cálculo de distancia\n",
    "    return ((lat2 - lat1) ** 2 + (lon2 - lon1) ** 2) ** 0.5\n",
    "\n",
    "\n",
    "punto_ref = (0, 0)\n",
    "for lat, lon in coordenadas:\n",
    "    distancia = calcular_distancia(punto_ref[0], punto_ref[1], lat, lon)\n",
    "    print(f\"Distancia desde {punto_ref} a ({lat}, {lon}): {distancia:.2f}\")"
   ]
  },
  {
   "cell_type": "markdown",
   "id": "5",
   "metadata": {},
   "source": [
    "## Bucles while\n",
    "Los bucles while continúan ejecutando un bloque de código mientras se cumpla una condición especificada. Son útiles cuando el número de iteraciones no se conoce de antemano, como cuando se procesan datos hasta que se cumple una cierta condición."
   ]
  },
  {
   "cell_type": "code",
   "execution_count": null,
   "id": "6",
   "metadata": {},
   "outputs": [],
   "source": [
    "contador = 0\n",
    "while contador < len(coordenadas):\n",
    "    lat, lon = coordenadas[contador]\n",
    "    print(f\"Procesando coordenada: ({lat}, {lon})\")\n",
    "    contador += 1"
   ]
  },
  {
   "cell_type": "markdown",
   "id": "7",
   "metadata": {},
   "source": [
    "## Sentencias de control: if, elif, else\n",
    "Las sentencias de control permiten ejecutar diferentes bloques de código basados en ciertas condiciones. En la programación geoespacial, esto es útil para manejar diferentes tipos de datos o condiciones."
   ]
  },
  {
   "cell_type": "code",
   "execution_count": null,
   "id": "8",
   "metadata": {},
   "outputs": [],
   "source": [
    "for lat, lon in coordenadas:\n",
    "    if lat > 0:\n",
    "        print(f\"{lat}, {lon} está en el hemisferio norte\")\n",
    "    elif lat < 0:\n",
    "        print(f\"{lat}, {lon} está en el hemisferio sur\")\n",
    "    else:\n",
    "        print(f\"{lat}, {lon} está cerca del ecuador\")"
   ]
  },
  {
   "cell_type": "markdown",
   "id": "9",
   "metadata": {},
   "source": [
    "### Clasificación adicional por longitud"
   ]
  },
  {
   "cell_type": "code",
   "execution_count": null,
   "id": "10",
   "metadata": {},
   "outputs": [],
   "source": [
    "for lat, lon in coordenadas:\n",
    "    if lat > 0:\n",
    "        hemisferio = \"Norte\"\n",
    "    else:\n",
    "        hemisferio = \"Sur\"\n",
    "    if lon > 0:\n",
    "        direccion = \"Este\"\n",
    "    else:\n",
    "        direccion = \"Oeste\"\n",
    "    print(\n",
    "        f\"La coordenada ({lat}, {lon}) está en el hemisferio {hemisferio} y {direccion}.\"\n",
    "    )"
   ]
  },
  {
   "cell_type": "markdown",
   "id": "11",
   "metadata": {},
   "source": [
    "## Combinando bucles y control de flujo\n",
    "Puedes combinar bucles y sentencias de control para realizar operaciones más complejas, como filtrar datos o aplicar condiciones durante la iteración."
   ]
  },
  {
   "cell_type": "code",
   "execution_count": null,
   "id": "12",
   "metadata": {},
   "outputs": [],
   "source": [
    "coordenadas_filtradas = []\n",
    "for lat, lon in coordenadas:\n",
    "    if lon > 0:\n",
    "        coordenadas_filtradas.append((lat, lon))\n",
    "print(f\"Coordenadas filtradas (solo con longitud positiva): {coordenadas_filtradas}\")"
   ]
  },
  {
   "cell_type": "code",
   "execution_count": null,
   "id": "13",
   "metadata": {},
   "outputs": [],
   "source": [
    "conteo_sur = 0\n",
    "for lat, lon in coordenadas:\n",
    "    if lat < 0:\n",
    "        conteo_sur += 1\n",
    "print(f\"Número de coordenadas en el hemisferio sur: {conteo_sur}\")"
   ]
  },
  {
   "cell_type": "markdown",
   "id": "14",
   "metadata": {},
   "source": [
    "## Ejercicios\n",
    "1. Crea una lista de ciudades con sus coordenadas. Usa un for para imprimir solo las que están en el hemisferio norte.\n",
    "2. Escribe un while que imprima coordenadas hasta encontrar una con latitud menor a 0.\n",
    "3. Usa un for para indicar si cada coordenada está en el hemisferio este u oeste según la longitud.\n",
    "4. Combina un for y if para contar cuántas coordenadas están en el hemisferio sur.\n",
    "5. Escribe un programa que genere coordenadas aleatorias (latitud y longitud) y las imprima hasta que ambas sean mayores a 50.\n",
    "\n",
    "## Resumen\n",
    "Los bucles y sentencias de control son herramientas fundamentales en la programación geoespacial. Permiten procesar y analizar datos geográficos de manera eficiente automatizando tareas repetitivas y aplicando lógica basada en condiciones de datos. Practica estos conceptos aplicándolos a tus conjuntos de datos y análisis geoespaciales."
   ]
  }
 ],
 "metadata": {
  "jupytext": {
   "default_lexer": "ipython3"
  },
  "kernelspec": {
   "display_name": "Python 3",
   "language": "python",
   "name": "python3"
  }
 },
 "nbformat": 4,
 "nbformat_minor": 5
}
