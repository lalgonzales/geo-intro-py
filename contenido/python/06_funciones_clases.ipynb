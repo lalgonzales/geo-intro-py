{
 "cells": [
  {
   "cell_type": "markdown",
   "id": "0",
   "metadata": {},
   "source": [
    "# Funciones y Clases en Python\n",
    "\n",
    "[![Open In Colab](https://colab.research.google.com/assets/colab-badge.svg)](https://colab.research.google.com/github/lalgonzales/geo-intro-py/blob/main/contenido/python/06_funciones_clases.ipynb)\n",
    "\n",
    "## Descripción\n",
    "\n",
    "Esta lección introduce los conceptos de funciones y clases en Python, enfocándose en su aplicación en la programación geoespacial. Las funciones permiten encapsular código en bloques reutilizables, haciendo que tus scripts sean más modulares y fáciles de mantener. Las clases proporcionan una forma de crear estructuras de datos complejas al agrupar datos y funcionalidad. Al comprender y aplicar estos conceptos, podrás construir herramientas de análisis geoespacial más sofisticadas y eficientes.\n",
    "\n",
    "## Objetivos de aprendizaje\n",
    "\n",
    "- Definir y usar funciones para tareas específicas y promover la reutilización de código en aplicaciones geoespaciales.\n",
    "- Comprender e implementar clases para representar estructuras de datos geográficos complejos, como características geográficas.\n",
    "- Combinar funciones y clases para crear herramientas modulares y escalables.\n",
    "- Aplicar principios de programación orientada a objetos para organizar y gestionar datos y operaciones geoespaciales de manera efectiva.\n",
    "- Desarrollar las habilidades para extender clases existentes y crear nuevas adaptadas a tareas geoespaciales específicas.\n",
    "\n",
    "---\n",
    "\n",
    "## Funciones\n",
    "\n",
    "Las funciones son bloques de código que realizan una tarea específica y pueden reutilizarse varias veces. Permiten estructurar el código de manera eficiente y reducir la redundancia.\n",
    "\n",
    "### Definición de una función simple"
   ]
  },
  {
   "cell_type": "code",
   "execution_count": null,
   "id": "1",
   "metadata": {},
   "outputs": [],
   "source": [
    "# Suma dos números\n",
    "def sumar(a, b):\n",
    "    return a + b\n",
    "\n",
    "\n",
    "# Ejemplo de uso\n",
    "resultado = sumar(5, 3)\n",
    "print(f\"Resultado: {resultado}\")"
   ]
  },
  {
   "cell_type": "markdown",
   "id": "2",
   "metadata": {},
   "source": [
    "Esta función toma dos parámetros `a` y `b`, y devuelve su suma. Puedes llamarla pasando dos valores como argumentos.\n",
    "\n",
    "### Parámetros con valores por defecto\n",
    "\n",
    "A veces, es posible que desees que una función tenga parámetros opcionales con valores por defecto. Puedes especificar un valor por defecto asignándolo en la definición de la función."
   ]
  },
  {
   "cell_type": "code",
   "execution_count": null,
   "id": "3",
   "metadata": {},
   "outputs": [],
   "source": [
    "def saludar(nombre, saludo=\"Hola\"):\n",
    "    return f\"{saludo}, {nombre}!\"\n",
    "\n",
    "\n",
    "print(saludar(\"Alicia\"))  # Usa el saludo por defecto\n",
    "print(saludar(\"Roberto\", \"Buen día\"))  # Sobrescribe el saludo"
   ]
  },
  {
   "cell_type": "markdown",
   "id": "4",
   "metadata": {},
   "source": [
    "En este ejemplo, el parámetro `saludo` tiene un valor por defecto de `\"Hola\"`. Si no proporcionas un segundo argumento, la función usará este valor por defecto. Si proporcionas uno, sobrescribirá el valor por defecto.\n",
    "\n",
    "### Llamando funciones\n",
    "\n",
    "Para llamar a una función, simplemente usa su nombre seguido de paréntesis que contengan los argumentos que deseas pasar. Por ejemplo:"
   ]
  },
  {
   "cell_type": "code",
   "execution_count": null,
   "id": "5",
   "metadata": {},
   "outputs": [],
   "source": [
    "# Multiplica dos números\n",
    "def multiplicar(a, b):\n",
    "    return a * b\n",
    "\n",
    "\n",
    "# Llamada a la función\n",
    "resultado = multiplicar(4, 5)\n",
    "print(f\"Resultado de la multiplicación: {resultado}\")"
   ]
  },
  {
   "cell_type": "markdown",
   "id": "6",
   "metadata": {},
   "source": [
    "Puedes llamar a la función `multiplicar` con dos números, y devolverá su producto.\n",
    "\n",
    "### Ejemplo geoespacial: función Haversine\n",
    "\n",
    "Apliquemos estos conceptos a un problema geoespacial. La [fórmula de Haversine](https://en.wikipedia.org/wiki/Haversine_formula) calcula la distancia entre dos puntos en la superficie de la Tierra.\n",
    "\n",
    "![](https://upload.wikimedia.org/wikipedia/commons/c/cb/Illustration_of_great-circle_distance.svg)"
   ]
  },
  {
   "cell_type": "code",
   "execution_count": null,
   "id": "7",
   "metadata": {},
   "outputs": [],
   "source": [
    "from math import radians, sin, cos, sqrt, atan2"
   ]
  },
  {
   "cell_type": "code",
   "execution_count": null,
   "id": "8",
   "metadata": {},
   "outputs": [],
   "source": [
    "def haversine(lat1, lon1, lat2, lon2):\n",
    "    radio = 6371.0  # Radio de la Tierra en kilómetros\n",
    "    dlat = radians(lat2 - lat1)\n",
    "    dlon = radians(lon2 - lon1)\n",
    "    a = (\n",
    "        sin(dlat / 2) ** 2\n",
    "        + cos(radians(lat1)) * cos(radians(lat2)) * sin(dlon / 2) ** 2\n",
    "    )\n",
    "    c = 2 * atan2(sqrt(a), sqrt(1 - a))\n",
    "    distancia = radio * c\n",
    "    return distancia\n",
    "\n",
    "\n",
    "# Ejemplo de uso\n",
    "distancia = haversine(19.4, -99.1, 40.7128, -74.0060)\n",
    "print(f\"Distancia: {distancia:.2f} km\")"
   ]
  },
  {
   "cell_type": "markdown",
   "id": "9",
   "metadata": {},
   "source": [
    "### Función con valores por defecto y aplicación geoespacial\n",
    "\n",
    "Ahora modifiquemos la función haversine para aceptar un parámetro opcional del radio de la Tierra, que tiene un valor por defecto para kilómetros pero puede configurarse para otras unidades como millas."
   ]
  },
  {
   "cell_type": "code",
   "execution_count": null,
   "id": "10",
   "metadata": {},
   "outputs": [],
   "source": [
    "def haversine(lat1, lon1, lat2, lon2, radio=6371.0):\n",
    "    dlat = radians(lat2 - lat1)\n",
    "    dlon = radians(lon2 - lon1)\n",
    "    a = (\n",
    "        sin(dlat / 2) ** 2\n",
    "        + cos(radians(lat1)) * cos(radians(lat2)) * sin(dlon / 2) ** 2\n",
    "    )\n",
    "    c = 2 * atan2(sqrt(a), sqrt(1 - a))\n",
    "    distancia = radio * c\n",
    "    return distancia\n",
    "\n",
    "\n",
    "# Ejemplo de uso en kilómetros\n",
    "distancia_km = haversine(19.4, -99.1, 40.7128, -74.0060)\n",
    "print(f\"Distancia en kilómetros: {distancia_km:.2f} km\")\n",
    "\n",
    "# Ejemplo de uso en millas (radio de la Tierra ≈ 3958.8 millas)\n",
    "distancia_millas = haversine(19.4, -99.1, 40.7128, -74.0060, radio=3958.8)\n",
    "print(f\"Distancia en millas: {distancia_millas:.2f} millas\")"
   ]
  },
  {
   "cell_type": "markdown",
   "id": "11",
   "metadata": {},
   "source": [
    "En este ejemplo, el parámetro `radio` tiene un valor por defecto de 6371.0 para kilómetros, pero puedes especificar 3958.8 si quieres la distancia en millas.\n",
    "\n",
    "Ahora, creemos una función que tome una lista de pares de coordenadas y devuelva una lista de distancias entre puntos consecutivos.\n",
    "\n",
    "### Procesamiento por lotes: lista de distancias"
   ]
  },
  {
   "cell_type": "code",
   "execution_count": null,
   "id": "12",
   "metadata": {},
   "outputs": [],
   "source": [
    "def batch_haversine(lista_coords):\n",
    "    distancias = []\n",
    "    for i in range(len(lista_coords) - 1):\n",
    "        lat1, lon1 = lista_coords[i]\n",
    "        lat2, lon2 = lista_coords[i + 1]\n",
    "        distancia = haversine(lat1, lon1, lat2, lon2)\n",
    "        distancias.append(distancia)\n",
    "    return distancias\n",
    "\n",
    "\n",
    "# Ejemplo de uso\n",
    "coordenadas = [(19.4, -99.1), (40.7128, -74.0060), (34.0522, -118.2437)]\n",
    "print(f\"Distancias: {batch_haversine(coordenadas)}\")"
   ]
  },
  {
   "cell_type": "markdown",
   "id": "13",
   "metadata": {},
   "source": [
    "### Función con argumentos variables\n",
    "\n",
    "También puedes crear funciones que acepten un número variable de argumentos usando `*args`."
   ]
  },
  {
   "cell_type": "code",
   "execution_count": null,
   "id": "14",
   "metadata": {},
   "outputs": [],
   "source": [
    "def promedio(*numeros):\n",
    "    return sum(numeros) / len(numeros)\n",
    "\n",
    "\n",
    "print(promedio(10, 20, 30))\n",
    "print(promedio(5, 15, 25, 35))"
   ]
  },
  {
   "cell_type": "markdown",
   "id": "15",
   "metadata": {},
   "source": [
    "En Python, puedes usar `**kwargs` (abreviatura de \"keyword arguments\") en las definiciones de funciones para pasar un número variable de argumentos nombrados. Esto te permite manejar un conjunto flexible de parámetros en una función.\n",
    "\n",
    "Vamos a crear un ejemplo que demuestra cómo usar `**kwargs` en una función:"
   ]
  },
  {
   "cell_type": "code",
   "execution_count": null,
   "id": "16",
   "metadata": {},
   "outputs": [],
   "source": [
    "def describir_punto(latitud, longitud, **kwargs):\n",
    "    descripcion = f\"Punto en ({latitud}, {longitud})\"\n",
    "    for clave, valor in kwargs.items():\n",
    "        descripcion += f\", {clave}: {valor}\"\n",
    "    return descripcion\n",
    "\n",
    "\n",
    "print(describir_punto(19.4, -99.1, nombre=\"CDMX\", poblacion=9000000))\n",
    "print(describir_punto(40.7128, -74.0060, nombre=\"NYC\", estado=\"NY\"))"
   ]
  },
  {
   "cell_type": "markdown",
   "id": "17",
   "metadata": {},
   "source": [
    "---\n",
    "\n",
    "## Clases\n",
    "\n",
    "Las clases son plantillas para crear objetos, que pueden tener atributos (datos) y métodos (funciones). Ayudan a representar estructuras de datos más complejas.\n",
    "\n",
    "### Definición de una clase simple"
   ]
  },
  {
   "cell_type": "code",
   "execution_count": null,
   "id": "18",
   "metadata": {},
   "outputs": [],
   "source": [
    "class Punto:\n",
    "    def __init__(self, latitud, longitud, nombre=None):\n",
    "        self.latitud = latitud\n",
    "        self.longitud = longitud\n",
    "        self.nombre = nombre\n",
    "\n",
    "    def __str__(self):\n",
    "        return f\"{self.nombre or 'Punto'} ({self.latitud}, {self.longitud})\"\n",
    "\n",
    "\n",
    "# Ejemplo de uso\n",
    "p1 = Punto(19.4, -99.1, \"CDMX\")\n",
    "print(p1)"
   ]
  },
  {
   "cell_type": "markdown",
   "id": "19",
   "metadata": {},
   "source": [
    "### Agregando métodos a la clase\n",
    "\n",
    "Puedes agregar métodos a la clase para realizar operaciones en los atributos."
   ]
  },
  {
   "cell_type": "code",
   "execution_count": null,
   "id": "20",
   "metadata": {},
   "outputs": [],
   "source": [
    "class Punto:\n",
    "    def __init__(self, latitud, longitud, nombre=None):\n",
    "        self.latitud = latitud\n",
    "        self.longitud = longitud\n",
    "        self.nombre = nombre\n",
    "\n",
    "    def distancia_a(self, otro_punto):\n",
    "        return haversine(\n",
    "            self.latitud, self.longitud, otro_punto.latitud, otro_punto.longitud\n",
    "        )\n",
    "\n",
    "\n",
    "# Ejemplo de uso\n",
    "p1 = Punto(19.4, -99.1, \"CDMX\")\n",
    "p2 = Punto(40.7128, -74.0060, \"NYC\")\n",
    "print(f\"Distancia de {p1.nombre} a {p2.nombre}: {p1.distancia_a(p2):.2f} km\")"
   ]
  },
  {
   "cell_type": "markdown",
   "id": "21",
   "metadata": {},
   "source": [
    "### Constructor con valores por defecto\n",
    "\n",
    "También puedes usar valores por defecto en el constructor de una clase."
   ]
  },
  {
   "cell_type": "code",
   "execution_count": null,
   "id": "22",
   "metadata": {},
   "outputs": [],
   "source": [
    "class Punto:\n",
    "    def __init__(self, latitud, longitud, nombre=\"Sin nombre\"):\n",
    "        self.latitud = latitud\n",
    "        self.longitud = longitud\n",
    "        self.nombre = nombre"
   ]
  },
  {
   "cell_type": "markdown",
   "id": "23",
   "metadata": {},
   "source": [
    "## Combinando funciones y clases\n",
    "\n",
    "Puedes usar funciones dentro de clases para crear herramientas geoespaciales más potentes y flexibles. Por ejemplo, al incorporar cálculos de distancia, podemos hacer que la clase `Punto` sea mucho más versátil.\n",
    "\n",
    "Vamos a crear un método en la clase `Punto` que calcula la distancia total al viajar a través de una serie de puntos."
   ]
  },
  {
   "cell_type": "code",
   "execution_count": null,
   "id": "24",
   "metadata": {},
   "outputs": [],
   "source": [
    "class Ruta:\n",
    "    def __init__(self, puntos):\n",
    "        self.puntos = puntos\n",
    "\n",
    "    def distancia_total(self):\n",
    "        total = 0\n",
    "        for i in range(len(self.puntos) - 1):\n",
    "            total += self.puntos[i].distancia_a(self.puntos[i + 1])\n",
    "        return total\n",
    "\n",
    "\n",
    "# Ejemplo de uso\n",
    "ruta = Ruta([p1, p2])\n",
    "print(f\"Distancia total: {ruta.distancia_total():.2f} km\")"
   ]
  },
  {
   "cell_type": "markdown",
   "id": "25",
   "metadata": {},
   "source": [
    "---\n",
    "\n",
    "## Ejercicios\n",
    "1. Escribe una función `convertir_distancia` que convierta distancias de kilómetros a millas y viceversa. La función debe aceptar dos parámetros: `distancia` y `unidad`, donde `unidad` tiene valor por defecto \"km\". Si la unidad es \"km\", convierte a millas; si es \"millas\", convierte a kilómetros.\n",
    "2. Escribe una función `sumar_coordenadas` que acepte varios pares de coordenadas (tuplas) y devuelva la suma de todas las latitudes y longitudes.\n",
    "3. Extiende la clase `Punto` para incluir un método `mover` que ajuste la latitud y longitud por una cantidad dada. Por ejemplo, si llamas `mover(1, -1)`, debe aumentar la latitud en 1 y disminuir la longitud en 1.\n",
    "4. Crea una clase `Rectangulo` que acepte dos objetos `Punto` como esquinas y calcule el área. La clase debe incluir un método `area` que devuelva el área del rectángulo, asumiendo que las coordenadas están en el mismo sistema.\n",
    "\n",
    "## Resumen\n",
    "\n",
    "Las funciones y clases permiten estructurar y reutilizar código en proyectos geoespaciales. Dominar estos conceptos te ayudará a crear herramientas modulares y eficientes para el análisis y procesamiento de datos geográficos."
   ]
  }
 ],
 "metadata": {
  "jupytext": {
   "default_lexer": "ipython3",
   "notebook_metadata_filter": "-all"
  }
 },
 "nbformat": 4,
 "nbformat_minor": 5
}
