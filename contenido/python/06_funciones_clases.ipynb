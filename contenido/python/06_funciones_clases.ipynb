{
 "cells": [
  {
   "cell_type": "markdown",
   "id": "0",
   "metadata": {},
   "source": [
    "# Funciones y Clases en Python\n",
    "\n",
    "<!-- Enlace Colab se agregará tras subir el notebook adaptado -->\n",
    "\n",
    "## Descripción\n",
    "\n",
    "Esta sección introduce los conceptos de funciones y clases en Python, enfocándose en su aplicación en la programación geoespacial. Las funciones permiten encapsular código reutilizable y las clases ayudan a organizar datos y operaciones complejas.\n",
    "\n",
    "## Objetivos de aprendizaje\n",
    "\n",
    "- Definir y usar funciones para tareas específicas y promover la reutilización de código en aplicaciones geoespaciales.\n",
    "- Comprender e implementar clases para representar estructuras de datos geográficos complejos.\n",
    "- Combinar funciones y clases para crear herramientas modulares y escalables.\n",
    "- Aplicar principios de programación orientada a objetos para organizar y gestionar datos y operaciones geoespaciales.\n",
    "\n",
    "---\n",
    "\n",
    "## Funciones\n",
    "\n",
    "Las funciones son bloques de código que realizan una tarea específica y pueden reutilizarse varias veces. Permiten estructurar el código de manera eficiente y reducir la redundancia.\n",
    "\n",
    "### Definición de una función simple"
   ]
  },
  {
   "cell_type": "code",
   "execution_count": null,
   "id": "1",
   "metadata": {},
   "outputs": [],
   "source": [
    "# Suma dos números\n",
    "def sumar(a, b):\n",
    "    return a + b\n",
    "\n",
    "\n",
    "# Ejemplo de uso\n",
    "resultado = sumar(5, 3)\n",
    "print(f\"Resultado: {resultado}\")"
   ]
  },
  {
   "cell_type": "markdown",
   "id": "2",
   "metadata": {},
   "source": [
    "### Parámetros con valores por defecto"
   ]
  },
  {
   "cell_type": "code",
   "execution_count": null,
   "id": "3",
   "metadata": {},
   "outputs": [],
   "source": [
    "def saludar(nombre, saludo=\"Hola\"):\n",
    "    return f\"{saludo}, {nombre}!\"\n",
    "\n",
    "\n",
    "print(saludar(\"Alicia\"))  # Usa el saludo por defecto\n",
    "print(saludar(\"Roberto\", \"Buen día\"))  # Sobrescribe el saludo"
   ]
  },
  {
   "cell_type": "markdown",
   "id": "4",
   "metadata": {},
   "source": [
    "### Llamando funciones"
   ]
  },
  {
   "cell_type": "code",
   "execution_count": null,
   "id": "5",
   "metadata": {},
   "outputs": [],
   "source": [
    "# Multiplica dos números\n",
    "def multiplicar(a, b):\n",
    "    return a * b\n",
    "\n",
    "\n",
    "# Llamada a la función\n",
    "resultado = multiplicar(4, 5)\n",
    "print(f\"Resultado de la multiplicación: {resultado}\")"
   ]
  },
  {
   "cell_type": "markdown",
   "id": "6",
   "metadata": {},
   "source": [
    "### Ejemplo geoespacial: función Haversine\n",
    "\n",
    "La fórmula de Haversine calcula la distancia entre dos puntos en la superficie de la Tierra."
   ]
  },
  {
   "cell_type": "code",
   "execution_count": null,
   "id": "7",
   "metadata": {},
   "outputs": [],
   "source": [
    "from math import radians, sin, cos, sqrt, atan2\n",
    "\n",
    "\n",
    "def haversine(lat1, lon1, lat2, lon2, radio=6371.0):\n",
    "    dlat = radians(lat2 - lat1)\n",
    "    dlon = radians(lon2 - lon1)\n",
    "    a = (\n",
    "        sin(dlat / 2) ** 2\n",
    "        + cos(radians(lat1)) * cos(radians(lat2)) * sin(dlon / 2) ** 2\n",
    "    )\n",
    "    c = 2 * atan2(sqrt(a), sqrt(1 - a))\n",
    "    distancia = radio * c\n",
    "    return distancia\n",
    "\n",
    "\n",
    "# Ejemplo de uso en kilómetros\n",
    "print(f\"Distancia: {haversine(19.4, -99.1, 40.7128, -74.0060):.2f} km\")\n",
    "# Ejemplo de uso en millas (radio ≈ 3958.8)\n",
    "print(\n",
    "    f\"Distancia: {haversine(19.4, -99.1, 40.7128, -74.0060, radio=3958.8):.2f} millas\"\n",
    ")"
   ]
  },
  {
   "cell_type": "markdown",
   "id": "8",
   "metadata": {},
   "source": [
    "### Procesamiento por lotes: lista de distancias"
   ]
  },
  {
   "cell_type": "code",
   "execution_count": null,
   "id": "9",
   "metadata": {},
   "outputs": [],
   "source": [
    "def batch_haversine(lista_coords):\n",
    "    distancias = []\n",
    "    for i in range(len(lista_coords) - 1):\n",
    "        lat1, lon1 = lista_coords[i]\n",
    "        lat2, lon2 = lista_coords[i + 1]\n",
    "        distancia = haversine(lat1, lon1, lat2, lon2)\n",
    "        distancias.append(distancia)\n",
    "    return distancias\n",
    "\n",
    "\n",
    "# Ejemplo de uso\n",
    "coordenadas = [(19.4, -99.1), (40.7128, -74.0060), (34.0522, -118.2437)]\n",
    "print(f\"Distancias: {batch_haversine(coordenadas)}\")"
   ]
  },
  {
   "cell_type": "markdown",
   "id": "10",
   "metadata": {},
   "source": [
    "### Función con argumentos variables"
   ]
  },
  {
   "cell_type": "code",
   "execution_count": null,
   "id": "11",
   "metadata": {},
   "outputs": [],
   "source": [
    "def promedio(*numeros):\n",
    "    return sum(numeros) / len(numeros)\n",
    "\n",
    "\n",
    "print(promedio(10, 20, 30))\n",
    "print(promedio(5, 15, 25, 35))"
   ]
  },
  {
   "cell_type": "markdown",
   "id": "12",
   "metadata": {},
   "source": [
    "### Función con argumentos nombrados"
   ]
  },
  {
   "cell_type": "code",
   "execution_count": null,
   "id": "13",
   "metadata": {},
   "outputs": [],
   "source": [
    "def describir_punto(latitud, longitud, **kwargs):\n",
    "    descripcion = f\"Punto en ({latitud}, {longitud})\"\n",
    "    for clave, valor in kwargs.items():\n",
    "        descripcion += f\", {clave}: {valor}\"\n",
    "    return descripcion\n",
    "\n",
    "\n",
    "print(describir_punto(19.4, -99.1, nombre=\"CDMX\", poblacion=9000000))\n",
    "print(describir_punto(40.7128, -74.0060, nombre=\"NYC\", estado=\"NY\"))"
   ]
  },
  {
   "cell_type": "markdown",
   "id": "14",
   "metadata": {},
   "source": [
    "---\n",
    "\n",
    "## Clases\n",
    "\n",
    "Las clases son plantillas para crear objetos, que pueden tener atributos (datos) y métodos (funciones). Ayudan a representar estructuras de datos más complejas.\n",
    "\n",
    "### Definición de una clase simple"
   ]
  },
  {
   "cell_type": "code",
   "execution_count": null,
   "id": "15",
   "metadata": {},
   "outputs": [],
   "source": [
    "class Punto:\n",
    "    def __init__(self, latitud, longitud, nombre=None):\n",
    "        self.latitud = latitud\n",
    "        self.longitud = longitud\n",
    "        self.nombre = nombre\n",
    "\n",
    "    def __str__(self):\n",
    "        return f\"{self.nombre or 'Punto'} ({self.latitud}, {self.longitud})\"\n",
    "\n",
    "\n",
    "# Ejemplo de uso\n",
    "p1 = Punto(19.4, -99.1, \"CDMX\")\n",
    "print(p1)"
   ]
  },
  {
   "cell_type": "markdown",
   "id": "16",
   "metadata": {},
   "source": [
    "### Agregando métodos a la clase"
   ]
  },
  {
   "cell_type": "code",
   "execution_count": null,
   "id": "17",
   "metadata": {},
   "outputs": [],
   "source": [
    "class Punto:\n",
    "    def __init__(self, latitud, longitud, nombre=None):\n",
    "        self.latitud = latitud\n",
    "        self.longitud = longitud\n",
    "        self.nombre = nombre\n",
    "\n",
    "    def distancia_a(self, otro_punto):\n",
    "        return haversine(\n",
    "            self.latitud, self.longitud, otro_punto.latitud, otro_punto.longitud\n",
    "        )\n",
    "\n",
    "\n",
    "# Ejemplo de uso\n",
    "p1 = Punto(19.4, -99.1, \"CDMX\")\n",
    "p2 = Punto(40.7128, -74.0060, \"NYC\")\n",
    "print(f\"Distancia de {p1.nombre} a {p2.nombre}: {p1.distancia_a(p2):.2f} km\")"
   ]
  },
  {
   "cell_type": "markdown",
   "id": "18",
   "metadata": {},
   "source": [
    "### Constructor con valores por defecto"
   ]
  },
  {
   "cell_type": "code",
   "execution_count": null,
   "id": "19",
   "metadata": {},
   "outputs": [],
   "source": [
    "class Punto:\n",
    "    def __init__(self, latitud, longitud, nombre=\"Sin nombre\"):\n",
    "        self.latitud = latitud\n",
    "        self.longitud = longitud\n",
    "        self.nombre = nombre"
   ]
  },
  {
   "cell_type": "markdown",
   "id": "20",
   "metadata": {},
   "source": [
    "## Combinando funciones y clases\n",
    "\n",
    "Puedes usar funciones dentro de clases para crear herramientas geoespaciales más potentes y flexibles. Por ejemplo, una clase Ruta que calcula la distancia total al recorrer una serie de puntos:"
   ]
  },
  {
   "cell_type": "code",
   "execution_count": null,
   "id": "21",
   "metadata": {},
   "outputs": [],
   "source": [
    "class Ruta:\n",
    "    def __init__(self, puntos):\n",
    "        self.puntos = puntos\n",
    "\n",
    "    def distancia_total(self):\n",
    "        total = 0\n",
    "        for i in range(len(self.puntos) - 1):\n",
    "            total += self.puntos[i].distancia_a(self.puntos[i + 1])\n",
    "        return total\n",
    "\n",
    "\n",
    "# Ejemplo de uso\n",
    "ruta = Ruta([p1, p2])\n",
    "print(f\"Distancia total: {ruta.distancia_total():.2f} km\")"
   ]
  },
  {
   "cell_type": "markdown",
   "id": "22",
   "metadata": {},
   "source": [
    "---\n",
    "\n",
    "## Ejercicios\n",
    "1. Escribe una función `convertir_distancia` que convierta distancias de kilómetros a millas y viceversa. La función debe aceptar dos parámetros: `distancia` y `unidad`, donde `unidad` tiene valor por defecto \"km\". Si la unidad es \"km\", convierte a millas; si es \"millas\", convierte a kilómetros.\n",
    "2. Escribe una función `sumar_coordenadas` que acepte varios pares de coordenadas (tuplas) y devuelva la suma de todas las latitudes y longitudes.\n",
    "3. Extiende la clase `Punto` para incluir un método `mover` que ajuste la latitud y longitud por una cantidad dada. Por ejemplo, si llamas `mover(1, -1)`, debe aumentar la latitud en 1 y disminuir la longitud en 1.\n",
    "4. Crea una clase `Rectangulo` que acepte dos objetos `Punto` como esquinas y calcule el área. La clase debe incluir un método `area` que devuelva el área del rectángulo, asumiendo que las coordenadas están en el mismo sistema.\n",
    "\n",
    "## Resumen\n",
    "\n",
    "Las funciones y clases permiten estructurar y reutilizar código en proyectos geoespaciales. Dominar estos conceptos te ayudará a crear herramientas modulares y eficientes para el análisis y procesamiento de datos geográficos.\n",
    "            total += self.puntos[i].distancia_a(self.puntos[i + 1])\n",
    "        return total\n",
    "\n",
    "ruta = Ruta([p1, p2])\n",
    "print(f\"Distancia total: {ruta.distancia_total():.2f} km\")\n",
    "```\n",
    "\n",
    "## Ejercicios\n",
    "1. Escribe una función `convertir_distancia` que convierta distancias de kilómetros a millas y viceversa. El parámetro `unidad` debe tener valor por defecto \"km\".\n",
    "2. Escribe una función `sumar_coordenadas` que acepte varios pares de coordenadas y devuelva la suma de todas las latitudes y longitudes.\n",
    "3. Extiende la clase `Punto` para incluir un método `mover` que ajuste la latitud y longitud por una cantidad dada.\n",
    "4. Crea una clase `Rectangulo` que acepte dos objetos `Punto` como esquinas y calcule el área.\n",
    "\n",
    "## Resumen\n",
    "Las funciones y clases permiten estructurar y reutilizar código en proyectos geoespaciales. Dominar estos conceptos te ayudará a crear herramientas modulares y eficientes para el análisis y procesamiento de datos geográficos."
   ]
  }
 ],
 "metadata": {
  "jupytext": {
   "default_lexer": "ipython3",
   "notebook_metadata_filter": "-all"
  }
 },
 "nbformat": 4,
 "nbformat_minor": 5
}
