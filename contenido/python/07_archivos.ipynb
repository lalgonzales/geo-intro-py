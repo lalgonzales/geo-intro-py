{
 "cells": [
  {
   "cell_type": "markdown",
   "id": "0",
   "metadata": {},
   "source": [
    "# Archivos y Manejo de Excepciones en Python\n",
    "\n",
    "[![Open in Colab](https://colab.research.google.com/assets/colab-badge.svg)](https://colab.research.google.com/github/lalgonzales/geo-intro-py/blob/main/contenido/python/07_archivos.ipynb)\n",
    "\n",
    "## Descripción\n",
    "\n",
    "Esta lección introduce técnicas para trabajar con archivos y manejar excepciones en Python, enfocándose en su importancia para la programación geoespacial. Gestionar archivos de manera efectiva es crucial al leer, escribir o procesar datos geoespaciales. El manejo de excepciones es igualmente importante, ya que permite que tus programas gestionen errores de forma elegante, asegurando que tu código siga siendo robusto y confiable incluso ante problemas inesperados.\n",
    "\n",
    "## Objetivos de aprendizaje\n",
    "\n",
    "Al final de esta lección, deberías ser capaz de:\n",
    "\n",
    "- Leer y escribir archivos en Python, con un enfoque particular en el manejo de datos geoespaciales.\n",
    "- Implementar manejo de excepciones usando bloques `try`, `except` y `finally` para gestionar errores que puedan ocurrir durante operaciones de archivos.\n",
    "- Combinar manejo de archivos y excepciones para crear aplicaciones geoespaciales robustas y confiables.\n",
    "- Desarrollar habilidades para identificar y gestionar problemas comunes en el procesamiento de archivos, como archivos faltantes, datos corruptos o errores de formato.\n",
    "- Asegurar que tus programas geoespaciales puedan manejar escenarios de datos reales de manera efectiva mediante el uso de mejores prácticas para el manejo de archivos y excepciones."
   ]
  },
  {
   "cell_type": "markdown",
   "id": "1",
   "metadata": {},
   "source": [
    "## Creación de un archivo de ejemplo\n",
    "\n",
    "Antes de trabajar con archivos, es esencial asegurar que los archivos que pretendes procesar realmente existan. En esta sección, aprenderás cómo crear un archivo de ejemplo `coordenadas.txt` programáticamente. Este archivo se usará en los ejemplos siguientes."
   ]
  },
  {
   "cell_type": "code",
   "execution_count": null,
   "id": "2",
   "metadata": {},
   "outputs": [],
   "source": [
    "# Crear un archivo de coordenadas de ejemplo\n",
    "datos_ejemplo = \"\"\"19.4,-99.1\n",
    "40.7128,-74.0060\n",
    "34.0522,-118.2437\n",
    "-33.8688,151.2093\n",
    "51.5074,-0.1278\"\"\"\n",
    "\n",
    "archivo_salida = \"coordenadas.txt\"\n",
    "\n",
    "try:\n",
    "    with open(archivo_salida, \"w\") as archivo:\n",
    "        archivo.write(datos_ejemplo)\n",
    "    print(f\"Archivo de ejemplo '{archivo_salida}' creado correctamente.\")\n",
    "except Exception as e:\n",
    "    print(f\"Ocurrió un error al crear el archivo: {e}\")"
   ]
  },
  {
   "cell_type": "markdown",
   "id": "3",
   "metadata": {},
   "source": [
    "En este código, creamos un archivo de texto simple llamado `coordenadas.txt` que contiene pares de latitud y longitud para varias ciudades alrededor del mundo. El archivo se escribe en el directorio de trabajo actual.\n",
    "\n",
    "Después de ejecutar este script, el archivo `coordenadas.txt` estará disponible para usar en los ejemplos siguientes. Si ocurren problemas durante la creación del archivo, el script los manejará e imprimirá un mensaje de error."
   ]
  },
  {
   "cell_type": "markdown",
   "id": "4",
   "metadata": {},
   "source": [
    "## Lectura y escritura de archivos\n",
    "\n",
    "En programación geoespacial, a menudo necesitas leer o escribir archivos. Python proporciona funciones integradas para manejar estas tareas. Empecemos leyendo de un archivo de texto que contiene coordenadas y escribiendo los resultados a un nuevo archivo."
   ]
  },
  {
   "cell_type": "code",
   "execution_count": null,
   "id": "5",
   "metadata": {},
   "outputs": [],
   "source": [
    "# Ejemplo de lectura y escritura de coordenadas\n",
    "input_file = \"coordenadas.txt\"\n",
    "output_file = \"coordenadas_salida.txt\"\n",
    "\n",
    "try:\n",
    "    with open(input_file, \"r\") as infile:\n",
    "        coordenadas = infile.readlines()\n",
    "\n",
    "    with open(output_file, \"w\") as outfile:\n",
    "        for linea in coordenadas:\n",
    "            lat, lon = linea.strip().split(\",\")\n",
    "            outfile.write(f\"Latitud: {lat}, Longitud: {lon}\\n\")\n",
    "\n",
    "    print(f\"Coordenadas escritas en {output_file}\")\n",
    "except FileNotFoundError:\n",
    "    print(f\"Error: El archivo {input_file} no se encontró.\")"
   ]
  },
  {
   "cell_type": "markdown",
   "id": "6",
   "metadata": {},
   "source": [
    "## Manejo de excepciones\n",
    "\n",
    "El manejo de excepciones permite gestionar errores durante la ejecución del programa. Esto es crucial en programación geoespacial, donde pueden surgir problemas como archivos faltantes, datos corruptos o entradas inválidas.\n",
    "\n",
    "Exploremos cómo manejar diferentes tipos de excepciones usando `try`, `except` y `finally`."
   ]
  },
  {
   "cell_type": "code",
   "execution_count": null,
   "id": "7",
   "metadata": {},
   "outputs": [],
   "source": [
    "# Ejemplo de manejo de excepciones al parsear coordenadas\n",
    "def parsear_coordenadas(linea):\n",
    "    try:\n",
    "        lat, lon = linea.strip().split(\",\")\n",
    "        lat = float(lat)\n",
    "        lon = float(lon)\n",
    "        return lat, lon\n",
    "    except ValueError as e:\n",
    "        print(f\"Error: {e}. No se pudo parsear la línea: {linea.strip()}\")\n",
    "        return None\n",
    "    except Exception as e:\n",
    "        print(f\"Error inesperado: {e}\")\n",
    "        return None\n",
    "\n",
    "\n",
    "# Ejemplo de uso\n",
    "linea = \"dato inválido\"\n",
    "coordenadas = parsear_coordenadas(linea)\n",
    "if coordenadas:\n",
    "    print(f\"Coordenadas parseadas: {coordenadas}\")"
   ]
  },
  {
   "cell_type": "markdown",
   "id": "8",
   "metadata": {},
   "source": [
    "## Combinando manejo de archivos y excepciones\n",
    "\n",
    "Puedes combinar el manejo de archivos y excepciones para crear aplicaciones geoespaciales robustas. Esto asegura que los archivos se manejen correctamente incluso si ocurren errores."
   ]
  },
  {
   "cell_type": "code",
   "execution_count": null,
   "id": "9",
   "metadata": {},
   "outputs": [],
   "source": [
    "# Ejemplo de manejo robusto de archivos con excepciones\n",
    "def procesar_archivo_geoespacial(input_file):\n",
    "    try:\n",
    "        with open(input_file, \"r\") as infile:\n",
    "            for linea in infile:\n",
    "                coordenadas = parsear_coordenadas(linea)\n",
    "                if coordenadas:\n",
    "                    print(f\"Coordenadas procesadas: {coordenadas}\")\n",
    "    except FileNotFoundError:\n",
    "        print(f\"Error: El archivo {input_file} no se encontró.\")\n",
    "    except Exception as e:\n",
    "        print(f\"Error inesperado al procesar el archivo: {e}\")\n",
    "    finally:\n",
    "        print(f\"Finalizó el procesamiento de {input_file}\")\n",
    "\n",
    "\n",
    "# Ejemplo de uso\n",
    "procesar_archivo_geoespacial(\"coordenadas.txt\")"
   ]
  },
  {
   "cell_type": "markdown",
   "id": "10",
   "metadata": {},
   "source": [
    "## Lectura de GeoJSON desde URL\n",
    "\n",
    "En geoprogramación es común acceder a datasets alojados en línea. Por ejemplo, podemos necesitar leer datos GeoJSON directamente desde una URL. La librería requests de Python facilita la recuperación de estos datos. En este ejemplo, leeremos un archivo GeoJSON que contiene ciudades del mundo y manejaremos cualquier excepción que pueda surgir.\n",
    "\n",
    "Primero, asegúrate de tener instalada la librería requests. Descomenta y ejecuta el siguiente comando si no la tienes."
   ]
  },
  {
   "cell_type": "code",
   "execution_count": null,
   "id": "11",
   "metadata": {},
   "outputs": [],
   "source": [
    "# !pip install requests"
   ]
  },
  {
   "cell_type": "markdown",
   "id": "12",
   "metadata": {},
   "source": [
    "Importa las librerías necesarias y lee los datos GeoJSON desde la URL."
   ]
  },
  {
   "cell_type": "code",
   "execution_count": null,
   "id": "13",
   "metadata": {},
   "outputs": [],
   "source": [
    "import requests"
   ]
  },
  {
   "cell_type": "markdown",
   "id": "14",
   "metadata": {},
   "source": [
    "En este caso, leeremos los datos GeoJSON de ciudades del mundo alojados en https://github.com/opengeos/datasets/releases/tag/world, y los procesaremos para extraer nombres y coordenadas de las ciudades."
   ]
  },
  {
   "cell_type": "code",
   "execution_count": null,
   "id": "15",
   "metadata": {},
   "outputs": [],
   "source": [
    "url = (\n",
    "    \"https://github.com/opengeos/datasets/releases/download/world/world_cities.geojson\"\n",
    ")"
   ]
  },
  {
   "cell_type": "markdown",
   "id": "16",
   "metadata": {},
   "source": [
    "Definamos una función para leer los datos GeoJSON desde la URL y extraer nombres de ciudades y coordenadas. También manejaremos excepciones que puedan ocurrir."
   ]
  },
  {
   "cell_type": "code",
   "execution_count": null,
   "id": "17",
   "metadata": {},
   "outputs": [],
   "source": [
    "def obtener_geojson(url):\n",
    "    try:\n",
    "        respuesta = requests.get(url)\n",
    "        respuesta.raise_for_status()  # Lanza excepción para errores HTTP\n",
    "        datos_geojson = respuesta.json()  # Parsea la respuesta JSON\n",
    "        return datos_geojson\n",
    "    except requests.exceptions.HTTPError as http_err:\n",
    "        print(f\"Error HTTP: {http_err}\")\n",
    "    except requests.exceptions.ConnectionError as conn_err:\n",
    "        print(f\"Error de conexión al servidor: {conn_err}\")\n",
    "    except Exception as err:\n",
    "        print(f\"Ocurrió un error: {err}\")\n",
    "    return None"
   ]
  },
  {
   "cell_type": "markdown",
   "id": "18",
   "metadata": {},
   "source": [
    "Obtener y mostrar un resumen de los datos."
   ]
  },
  {
   "cell_type": "code",
   "execution_count": null,
   "id": "19",
   "metadata": {},
   "outputs": [],
   "source": [
    "datos_geojson = obtener_geojson(url)"
   ]
  },
  {
   "cell_type": "markdown",
   "id": "20",
   "metadata": {},
   "source": [
    "Descomenta y ejecuta el siguiente código para mostrar los datos leídos desde la URL."
   ]
  },
  {
   "cell_type": "code",
   "execution_count": null,
   "id": "21",
   "metadata": {},
   "outputs": [],
   "source": [
    "# datos_geojson"
   ]
  },
  {
   "cell_type": "markdown",
   "id": "22",
   "metadata": {},
   "source": [
    "La salida anterior es extensa, así que mostraremos solo las primeras ciudades. Puedes modificar el código para mostrar más si es necesario."
   ]
  },
  {
   "cell_type": "code",
   "execution_count": null,
   "id": "23",
   "metadata": {},
   "outputs": [],
   "source": [
    "if datos_geojson:\n",
    "    features = datos_geojson.get(\"features\", [])\n",
    "    print(f\"Número de ciudades: {len(features)}\")\n",
    "\n",
    "    # Extraer nombres de ciudades y sus coordenadas\n",
    "    for feature in features[:5]:  # Mostrar primeras 5 ciudades\n",
    "        nombre_ciudad = feature[\"properties\"].get(\"name\")\n",
    "        nombre_pais = feature[\"properties\"].get(\"country\")\n",
    "        coordenadas = feature[\"geometry\"][\"coordinates\"]\n",
    "        print(\n",
    "            f\"Nombre: {nombre_ciudad}, País: {nombre_pais}, Coordenadas: {coordenadas}\"\n",
    "        )"
   ]
  },
  {
   "cell_type": "markdown",
   "id": "24",
   "metadata": {},
   "source": [
    "---\n",
    "\n",
    "## Ejercicios\n",
    "1. Crea una función que lea un archivo con nombres de ciudades y coordenadas, manejando excepciones si el archivo falta o una línea está mal formateada.\n",
    "2. Escribe una función que escriba una lista de coordenadas en un archivo, asegurando el cierre correcto aunque ocurra un error.\n",
    "3. Crea una función robusta que lea datos de un archivo, los procese y escriba los resultados en otro archivo, manejando todos los errores posibles.\n",
    "\n",
    "---\n",
    "\n",
    "## Resumen\n",
    "\n",
    "El manejo de archivos y excepciones es esencial en la programación geoespacial. Dominar estas técnicas te permitirá crear aplicaciones confiables y eficientes que procesen datos reales de manera robusta."
   ]
  },
  {
   "cell_type": "code",
   "execution_count": null,
   "id": "25",
   "metadata": {},
   "outputs": [],
   "source": []
  }
 ],
 "metadata": {
  "jupytext": {
   "default_lexer": "ipython3"
  },
  "kernelspec": {
   "display_name": "Python 3",
   "language": "python",
   "name": "python3"
  }
 },
 "nbformat": 4,
 "nbformat_minor": 5
}
