{
 "cells": [
  {
   "cell_type": "markdown",
   "id": "0",
   "metadata": {},
   "source": [
    "# Archivos y Manejo de Excepciones en Python\n",
    "\n",
    "[![Open in Colab](https://colab.research.google.com/assets/colab-badge.svg)](https://colab.research.google.com/github/lalgonzales/geo-intro-py/blob/main/contenido/python/07_archivos.ipynb)\n",
    "\n",
    "## Descripción\n",
    "\n",
    "Esta sección introduce técnicas para trabajar con archivos y manejar excepciones en Python, enfocándose en su importancia para la programación geoespacial. Aprenderás a leer y escribir archivos, así como a manejar errores de forma robusta para crear aplicaciones confiables.\n",
    "\n",
    "## Objetivos de aprendizaje\n",
    "\n",
    "- Leer y escribir archivos en Python, especialmente para datos geoespaciales.\n",
    "- Implementar manejo de excepciones con `try`, `except` y `finally` para gestionar errores en operaciones de archivos.\n",
    "- Combinar manejo de archivos y excepciones para crear aplicaciones robustas.\n",
    "- Identificar y gestionar problemas comunes en el procesamiento de archivos, como archivos faltantes o datos corruptos.\n",
    "- Aplicar buenas prácticas para el manejo de datos reales en proyectos geográficos.\n",
    "\n",
    "---\n",
    "\n",
    "## Creación de un archivo de ejemplo\n",
    "\n",
    "Antes de trabajar con archivos, es útil crear un archivo de ejemplo programáticamente. Este archivo se usará en los ejemplos siguientes."
   ]
  },
  {
   "cell_type": "code",
   "execution_count": null,
   "id": "1",
   "metadata": {},
   "outputs": [],
   "source": [
    "# Crear un archivo de coordenadas de ejemplo\n",
    "datos_ejemplo = \"\"\"19.4,-99.1\\n40.7128,-74.0060\\n34.0522,-118.2437\\n-33.8688,151.2093\\n51.5074,-0.1278\"\"\"\n",
    "\n",
    "archivo_salida = \"coordenadas.txt\"\n",
    "\n",
    "try:\n",
    "    with open(archivo_salida, \"w\") as archivo:\n",
    "        archivo.write(datos_ejemplo)\n",
    "    print(f\"Archivo de ejemplo '{archivo_salida}' creado correctamente.\")\n",
    "except Exception as e:\n",
    "    print(f\"Ocurrió un error al crear el archivo: {e}\")"
   ]
  },
  {
   "cell_type": "markdown",
   "id": "2",
   "metadata": {},
   "source": [
    "---\n",
    "\n",
    "\n",
    "## Lectura y escritura de archivos\n",
    "\n",
    "En programación geoespacial, es común leer y escribir archivos con coordenadas u otros datos. Python facilita estas tareas con funciones integradas."
   ]
  },
  {
   "cell_type": "code",
   "execution_count": null,
   "id": "3",
   "metadata": {},
   "outputs": [],
   "source": [
    "# Ejemplo de lectura y escritura de coordenadas\n",
    "input_file = \"coordenadas.txt\"\n",
    "output_file = \"coordenadas_salida.txt\"\n",
    "\n",
    "try:\n",
    "    with open(input_file, \"r\") as infile:\n",
    "        coordenadas = infile.readlines()\n",
    "\n",
    "    with open(output_file, \"w\") as outfile:\n",
    "        for linea in coordenadas:\n",
    "            lat, lon = linea.strip().split(\",\")\n",
    "            outfile.write(f\"Latitud: {lat}, Longitud: {lon}\\n\")\n",
    "\n",
    "    print(f\"Coordenadas escritas en {output_file}\")\n",
    "except FileNotFoundError:\n",
    "    print(f\"Error: El archivo {input_file} no se encontró.\")"
   ]
  },
  {
   "cell_type": "markdown",
   "id": "4",
   "metadata": {},
   "source": [
    "---\n",
    "\n",
    "# Manejo de excepciones al parsear coordenadas"
   ]
  },
  {
   "cell_type": "code",
   "execution_count": null,
   "id": "5",
   "metadata": {},
   "outputs": [],
   "source": [
    "def parsear_coordenadas(linea):\n",
    "    try:\n",
    "        lat, lon = linea.strip().split(\",\")\n",
    "        lat = float(lat)\n",
    "        lon = float(lon)\n",
    "        return lat, lon\n",
    "    except ValueError as e:\n",
    "        print(f\"Error: {e}. No se pudo parsear la línea: {linea.strip()}\")\n",
    "        return None\n",
    "    except Exception as e:\n",
    "        print(f\"Error inesperado: {e}\")\n",
    "        return None\n",
    "\n",
    "\n",
    "# Ejemplo de uso\n",
    "linea = \"dato inválido\"\n",
    "coordenadas = parsear_coordenadas(linea)\n",
    "if coordenadas:\n",
    "    print(f\"Coordenadas parseadas: {coordenadas}\")"
   ]
  },
  {
   "cell_type": "markdown",
   "id": "6",
   "metadata": {},
   "source": [
    "# Combinando manejo de archivos y excepciones"
   ]
  },
  {
   "cell_type": "code",
   "execution_count": null,
   "id": "7",
   "metadata": {},
   "outputs": [],
   "source": [
    "def procesar_archivo_geoespacial(input_file):\n",
    "    try:\n",
    "        with open(input_file, \"r\") as infile:\n",
    "            for linea in infile:\n",
    "                coords = parsear_coordenadas(linea)\n",
    "                if coords:\n",
    "                    print(f\"Coordenadas procesadas: {coords}\")\n",
    "    except FileNotFoundError:\n",
    "        print(f\"Error: El archivo {input_file} no se encontró.\")\n",
    "    except Exception as e:\n",
    "        print(f\"Error inesperado al procesar el archivo: {e}\")\n",
    "    finally:\n",
    "        print(f\"Finalizó el procesamiento de {input_file}\")\n",
    "\n",
    "\n",
    "procesar_archivo_geoespacial(\"datos.txt\")"
   ]
  },
  {
   "cell_type": "markdown",
   "id": "8",
   "metadata": {},
   "source": [
    "# Lectura de GeoJSON desde URL (requiere requests)"
   ]
  },
  {
   "cell_type": "code",
   "execution_count": null,
   "id": "9",
   "metadata": {},
   "outputs": [],
   "source": [
    "# !pip install requests\n",
    "import requests\n",
    "url = \"https://github.com/opengeos/datasets/releases/download/world/world_cities.geojson\"\n",
    "\n",
    "def obtener_geojson(url):\n",
    "datos_geojson = obtener_geojson(url)\n",
    "\n",
    "---\n",
    "\n",
    "## Lectura de GeoJSON desde URL\n",
    "\n",
    "En geoprogramación es común acceder a datos en línea, como archivos GeoJSON. Usaremos la librería `requests` para leer datos desde una URL y manejar posibles errores.\n",
    "\n",
    "```{code-cell} ipython3\n",
    "# !pip install requests\n",
    "import requests\n",
    "url = \"https://github.com/opengeos/datasets/releases/download/world/world_cities.geojson\"\n",
    "\n",
    "def obtener_geojson(url):\n",
    "    try:\n",
    "        respuesta = requests.get(url)\n",
    "        respuesta.raise_for_status()\n",
    "        datos_geojson = respuesta.json()\n",
    "        return datos_geojson\n",
    "    except requests.exceptions.HTTPError as http_err:\n",
    "        print(f\"Error HTTP: {http_err}\")\n",
    "    except requests.exceptions.ConnectionError as conn_err:\n",
    "        print(f\"Error de conexión: {conn_err}\")\n",
    "    except Exception as err:\n",
    "        print(f\"Ocurrió un error: {err}\")\n",
    "    return None\n",
    "\n",
    "datos_geojson = obtener_geojson(url)\n",
    "if datos_geojson:\n",
    "    features = datos_geojson.get(\"features\", [])\n",
    "    print(f\"Número de ciudades: {len(features)}\")\n",
    "    for feature in features[:5]:\n",
    "        nombre = feature[\"properties\"].get(\"name\")\n",
    "        pais = feature[\"properties\"].get(\"country\")\n",
    "        coords = feature[\"geometry\"][\"coordinates\"]\n",
    "        print(f\"Nombre: {nombre}, País: {pais}, Coordenadas: {coords}\")"
   ]
  },
  {
   "cell_type": "markdown",
   "id": "10",
   "metadata": {},
   "source": [
    "---\n",
    "\n",
    "## Ejercicios\n",
    "1. Crea una función que lea un archivo con nombres de ciudades y coordenadas, manejando excepciones si el archivo falta o una línea está mal formateada.\n",
    "2. Escribe una función que escriba una lista de coordenadas en un archivo, asegurando el cierre correcto aunque ocurra un error.\n",
    "3. Crea una función robusta que lea datos de un archivo, los procese y escriba los resultados en otro archivo, manejando todos los errores posibles.\n",
    "\n",
    "---\n",
    "\n",
    "## Resumen\n",
    "\n",
    "El manejo de archivos y excepciones es esencial en la programación geoespacial. Dominar estas técnicas te permitirá crear aplicaciones confiables y eficientes que procesen datos reales de manera robusta."
   ]
  }
 ],
 "metadata": {
  "jupytext": {
   "default_lexer": "ipython3"
  },
  "kernelspec": {
   "display_name": "Python 3",
   "language": "python",
   "name": "python3"
  }
 },
 "nbformat": 4,
 "nbformat_minor": 5
}
