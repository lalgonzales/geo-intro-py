{
 "cells": [
  {
   "cell_type": "markdown",
   "id": "0",
   "metadata": {},
   "source": [
    "# Introducción\n",
    "\n",
    "[![Open in Colab](https://colab.research.google.com/assets/colab-badge.svg)](https://colab.research.google.com/github/lalgonzales/geo-intro-py/blob/main/contenido/python/01_introduccion.ipynb)\n",
    "\n",
    "Existen varias formas de ejecutar notebooks de Jupyter. Puedes hacerlo localmente en tu computadora o usar servicios en línea como Google Colab o Binder."
   ]
  },
  {
   "cell_type": "code",
   "execution_count": null,
   "id": "1",
   "metadata": {},
   "outputs": [],
   "source": [
    "print(\"¡Hola, Python!\")"
   ]
  },
  {
   "cell_type": "markdown",
   "id": "2",
   "metadata": {},
   "source": [
    "## Usando Google Colab\n",
    "\n",
    "Google Colab es un servicio gratuito en línea que te permite ejecutar notebooks de Jupyter en la nube. Puedes acceder en [colab.research.google.com](https://colab.research.google.com/).\n",
    "\n",
    "Para ejecutar un notebook de este curso en Google Colab, coloca el mouse sobre el ícono de cohete en la esquina superior derecha del notebook y haz clic en el enlace \"Colab\" para abrir el notebook en Google Colab.\n",
    "\n",
    "![imagen](https://github.com/user-attachments/assets/65e9c75a-5e45-4021-b8c2-a383467a80b7)\n",
    "\n",
    "## Usando Binder\n",
    "\n",
    "Binder es otro servicio gratuito en línea que te permite ejecutar notebooks de Jupyter en la nube. Puedes acceder en [mybinder.org](https://mybinder.org/).\n",
    "\n",
    "Para ejecutar un notebook de este curso en Binder, coloca el mouse sobre el ícono de cohete en la esquina superior derecha del notebook y haz clic en el enlace \"Binder\" para abrir el notebook en Binder.\n",
    "\n",
    "![imagen](https://github.com/user-attachments/assets/65c5ea68-4bf4-45c0-94cc-7e59ec8498e9)\n",
    "\n",
    "## Ejecución local\n",
    "\n",
    "Para ejecutar notebooks de Jupyter localmente en tu computadora, necesitas tener instalado JupyterLab. Puedes instalarlo con el siguiente comando:\n",
    "\n",
    "```bash\n",
    "pip install jupyterlab\n",
    "```\n",
    "\n",
    "Una vez instalado JupyterLab, puedes ejecutarlo con el siguiente comando en tu terminal:\n",
    "\n",
    "```bash\n",
    "jupyter lab\n",
    "```\n",
    "\n",
    "Esto abrirá JupyterLab en tu navegador web predeterminado, donde podrás navegar hasta el notebook que deseas ejecutar.\n",
    "\n",
    "![imagen](https://github.com/user-attachments/assets/51863486-0881-470d-a960-990c762cd6bb)"
   ]
  }
 ],
 "metadata": {
  "jupytext": {
   "default_lexer": "ipython3"
  },
  "kernelspec": {
   "display_name": "Python 3",
   "language": "python",
   "name": "python3"
  }
 },
 "nbformat": 4,
 "nbformat_minor": 5
}
