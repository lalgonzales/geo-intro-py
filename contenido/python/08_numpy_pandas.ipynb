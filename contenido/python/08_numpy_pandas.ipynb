{
 "cells": [
  {
   "cell_type": "markdown",
   "id": "0",
   "metadata": {},
   "source": [
    "[![Open in Colab](https://colab.research.google.com/assets/colab-badge.svg)](https://colab.research.google.com/github/lalgonzales/geo-intro-py/blob/main/contenido/python/08_numpy_pandas.ipynb)\n",
    "\n",
    "\n",
    "# Introducción a Numpy y Pandas\n",
    "\n",
    "<!-- Enlace Colab se agregará tras subir el notebook adaptado -->\n",
    "\n",
    "## Descripción\n",
    "\n",
    "Esta sección introduce las librerías [NumPy](https://numpy.org) y [Pandas](https://pandas.pydata.org), fundamentales para la manipulación y análisis de datos en Python, con aplicaciones en programación geoespacial. NumPy es esencial para operaciones numéricas y manejo de arrays, mientras que Pandas ofrece herramientas poderosas para el análisis de datos tabulares. Dominar estas librerías te permitirá realizar operaciones complejas de datos de manera eficiente en contextos geográficos.\n",
    "\n",
    "## Objetivos de aprendizaje\n",
    "\n",
    "- Comprender los conceptos básicos de arrays en NumPy y realizar operaciones sobre ellos.\n",
    "- Utilizar DataFrames de Pandas para organizar, analizar y manipular datos tabulares.\n",
    "- Aplicar NumPy y Pandas en programación geoespacial para procesar y analizar conjuntos de datos.\n",
    "- Combinar NumPy y Pandas para optimizar flujos de trabajo de procesamiento de datos.\n",
    "- Realizar operaciones complejas como filtrado, agregación y transformación de datos geoespaciales.\n",
    "\n",
    "---\n",
    "\n",
    "## Introducción a NumPy\n",
    "\n",
    "NumPy (Numerical Python) es una librería para computación científica. Proporciona soporte para arrays y matrices multidimensionales, junto con funciones matemáticas para operar sobre ellos.\n",
    "\n",
    "### Creación de arrays en NumPy"
   ]
  },
  {
   "cell_type": "code",
   "execution_count": null,
   "id": "1",
   "metadata": {},
   "outputs": [],
   "source": [
    "import numpy as np\n",
    "\n",
    "# Crear un array 1D\n",
    "arr_1d = np.array([1, 2, 3, 4, 5])\n",
    "print(f\"Array 1D: {arr_1d}\")\n",
    "\n",
    "# Crear un array 2D\n",
    "arr_2d = np.array([[1, 2, 3], [4, 5, 6]])\n",
    "print(f\"Array 2D:\\n{arr_2d}\")\n",
    "\n",
    "# Array de ceros\n",
    "zeros = np.zeros((3, 3))\n",
    "print(f\"Array de ceros:\\n{zeros}\")\n",
    "\n",
    "# Array de unos\n",
    "ones = np.ones((2, 4))\n",
    "print(f\"Array de unos:\\n{ones}\")\n",
    "\n",
    "# Array con rango de valores\n",
    "range_arr = np.arange(0, 10, 2)\n",
    "print(f\"Array rango: {range_arr}\")"
   ]
  },
  {
   "cell_type": "markdown",
   "id": "2",
   "metadata": {},
   "source": [
    "### Operaciones básicas con arrays"
   ]
  },
  {
   "cell_type": "code",
   "execution_count": null,
   "id": "3",
   "metadata": {},
   "outputs": [],
   "source": [
    "# Suma y multiplicación escalar\n",
    "arr_sum = arr_1d + 10\n",
    "print(f\"Array tras suma: {arr_sum}\")\n",
    "arr_product = arr_1d * 2\n",
    "print(f\"Array tras multiplicación: {arr_product}\")\n",
    "\n",
    "# Multiplicación elemento a elemento\n",
    "arr_2d_product = arr_2d * np.array([1, 2, 3])\n",
    "print(f\"Multiplicación elemento a elemento en 2D:\\n{arr_2d_product}\")"
   ]
  },
  {
   "cell_type": "markdown",
   "id": "4",
   "metadata": {},
   "source": [
    "### Cambio de forma (reshaping)"
   ]
  },
  {
   "cell_type": "code",
   "execution_count": null,
   "id": "5",
   "metadata": {},
   "outputs": [],
   "source": [
    "# Cambiar la forma de un array 1D a 2D\n",
    "arr_reshaped = np.arange(12).reshape((3, 4))\n",
    "print(f\"Array 1D reestructurado a 2D:\\n{arr_reshaped}\")\n",
    "print(f\"Forma del array: {arr_reshaped.shape}\")"
   ]
  },
  {
   "cell_type": "markdown",
   "id": "6",
   "metadata": {},
   "source": [
    "## Ejemplo básico"
   ]
  },
  {
   "cell_type": "code",
   "execution_count": null,
   "id": "7",
   "metadata": {},
   "outputs": [],
   "source": [
    "import numpy as np\n",
    "import pandas as pd\n",
    "\n",
    "# Ejemplo de array\n",
    "arr = np.array([1, 2, 3])\n",
    "print(arr)"
   ]
  },
  {
   "cell_type": "markdown",
   "id": "8",
   "metadata": {},
   "source": [
    "## Ejemplo de arrays y operaciones básicas con Numpy"
   ]
  },
  {
   "cell_type": "code",
   "execution_count": null,
   "id": "9",
   "metadata": {},
   "outputs": [],
   "source": [
    "arr_1d = np.array([1, 2, 3, 4, 5])\n",
    "print(f\"Array 1D: {arr_1d}\")\n",
    "arr_2d = np.array([[1, 2, 3], [4, 5, 6]])\n",
    "print(f\"Array 2D:\\n{arr_2d}\")\n",
    "zeros = np.zeros((3, 3))\n",
    "print(f\"Array de ceros:\\n{zeros}\")\n",
    "ones = np.ones((2, 4))\n",
    "print(f\"Array de unos:\\n{ones}\")\n",
    "range_arr = np.arange(0, 10, 2)\n",
    "print(f\"Array rango: {range_arr}\")"
   ]
  },
  {
   "cell_type": "markdown",
   "id": "10",
   "metadata": {},
   "source": [
    "### Funciones matemáticas sobre arrays"
   ]
  },
  {
   "cell_type": "code",
   "execution_count": null,
   "id": "11",
   "metadata": {},
   "outputs": [],
   "source": [
    "# Raíz cuadrada y logaritmo\n",
    "arr = np.arange(1, 10)\n",
    "sqrt_array = np.sqrt(arr)\n",
    "print(f\"Raíz cuadrada: {sqrt_array}\")\n",
    "log_array = np.log1p(arr)\n",
    "print(f\"Logaritmo natural: {log_array}\")"
   ]
  },
  {
   "cell_type": "markdown",
   "id": "12",
   "metadata": {},
   "source": [
    "### Operaciones estadísticas"
   ]
  },
  {
   "cell_type": "code",
   "execution_count": null,
   "id": "13",
   "metadata": {},
   "outputs": [],
   "source": [
    "arr = np.array([1, 2, 3, 4, 5, 6, 7, 8, 9, 10])\n",
    "print(f\"Media: {np.mean(arr)}\")\n",
    "print(f\"Mediana: {np.median(arr)}\")\n",
    "print(f\"Desviación estándar: {np.std(arr):.4f}\")"
   ]
  },
  {
   "cell_type": "markdown",
   "id": "14",
   "metadata": {},
   "source": [
    "### Generación de datos aleatorios"
   ]
  },
  {
   "cell_type": "code",
   "execution_count": null,
   "id": "15",
   "metadata": {},
   "outputs": [],
   "source": [
    "# Generar coordenadas aleatorias\n",
    "random_coords = np.random.uniform(low=-90, high=90, size=(5, 2))\n",
    "print(f\"Coordenadas aleatorias:\\n{random_coords}\")"
   ]
  },
  {
   "cell_type": "markdown",
   "id": "16",
   "metadata": {},
   "source": [
    "### Indexación, slicing y filtrado"
   ]
  },
  {
   "cell_type": "code",
   "execution_count": null,
   "id": "17",
   "metadata": {},
   "outputs": [],
   "source": [
    "arr = np.array([10, 20, 30, 40, 50])\n",
    "print(f\"Primer elemento: {arr[0]}\")\n",
    "print(f\"Último elemento: {arr[-1]}\")\n",
    "print(f\"Slice 1-3: {arr[1:4]}\")\n",
    "print(f\"Filtrado >25: {arr[arr > 25]}\")"
   ]
  },
  {
   "cell_type": "markdown",
   "id": "18",
   "metadata": {},
   "source": [
    "### Ejemplo geoespacial: conversión de grados a radianes"
   ]
  },
  {
   "cell_type": "code",
   "execution_count": null,
   "id": "19",
   "metadata": {},
   "outputs": [],
   "source": [
    "coords = np.array([[19.4, -99.1], [40.7128, -74.0060], [34.0522, -118.2437]])\n",
    "coords_rad = np.radians(coords)\n",
    "print(f\"Coordenadas en radianes:\\n{coords_rad}\")"
   ]
  },
  {
   "cell_type": "markdown",
   "id": "20",
   "metadata": {},
   "source": [
    "## Generación de coordenadas aleatorias"
   ]
  },
  {
   "cell_type": "code",
   "execution_count": null,
   "id": "21",
   "metadata": {},
   "outputs": [],
   "source": [
    "random_coords = np.random.uniform(low=-90, high=90, size=(5, 2))\n",
    "print(f\"Coordenadas aleatorias:\\n{random_coords}\")"
   ]
  },
  {
   "cell_type": "markdown",
   "id": "22",
   "metadata": {},
   "source": [
    "## Indexación, slicing y filtrado"
   ]
  },
  {
   "cell_type": "code",
   "execution_count": null,
   "id": "23",
   "metadata": {},
   "outputs": [],
   "source": [
    "arr = np.array([10, 20, 30, 40, 50])\n",
    "print(f\"Primer elemento: {arr[0]}\")\n",
    "print(f\"Último elemento: {arr[-1]}\")\n",
    "print(f\"Slice 1-3: {arr[1:4]}\")\n",
    "print(f\"Filtrado >25: {arr[arr > 25]}\")"
   ]
  },
  {
   "cell_type": "markdown",
   "id": "24",
   "metadata": {},
   "source": [
    "## Ejemplo geoespacial: conversión de grados a radianes"
   ]
  },
  {
   "cell_type": "code",
   "execution_count": null,
   "id": "25",
   "metadata": {},
   "outputs": [],
   "source": [
    "coords = np.array([[19.4, -99.1], [40.7128, -74.0060], [34.0522, -118.2437]])\n",
    "coords_rad = np.radians(coords)\n",
    "print(f\"Coordenadas en radianes:\\n{coords_rad}\")"
   ]
  },
  {
   "cell_type": "markdown",
   "id": "26",
   "metadata": {},
   "source": [
    "## Introducción a Pandas\n",
    "\n",
    "Pandas es una librería para análisis de datos tabulares. Permite organizar, filtrar, transformar y analizar datos de manera eficiente.\n",
    "\n",
    "### Ejemplo básico de DataFrame"
   ]
  },
  {
   "cell_type": "code",
   "execution_count": null,
   "id": "27",
   "metadata": {},
   "outputs": [],
   "source": [
    "import pandas as pd\n",
    "\n",
    "data = {\n",
    "    \"Ciudad\": [\"CDMX\", \"NYC\", \"LA\"],\n",
    "    \"Latitud\": [19.4, 40.7128, 34.0522],\n",
    "    \"Longitud\": [-99.1, -74.0060, -118.2437],\n",
    "}\n",
    "df = pd.DataFrame(data)\n",
    "print(df)"
   ]
  },
  {
   "cell_type": "markdown",
   "id": "28",
   "metadata": {},
   "source": [
    "### Operaciones con DataFrames"
   ]
  },
  {
   "cell_type": "code",
   "execution_count": null,
   "id": "29",
   "metadata": {},
   "outputs": [],
   "source": [
    "print(df[\"Latitud\"])\n",
    "print(df[df[\"Longitud\"] < 0])\n",
    "df[\"Lat_Radianes\"] = np.radians(df[\"Latitud\"])\n",
    "print(df)"
   ]
  },
  {
   "cell_type": "markdown",
   "id": "30",
   "metadata": {},
   "source": [
    "### Agrupación y agregación"
   ]
  },
  {
   "cell_type": "code",
   "execution_count": null,
   "id": "31",
   "metadata": {},
   "outputs": [],
   "source": [
    "data = {\n",
    "    \"Ciudad\": [\"CDMX\", \"NYC\", \"LA\", \"Paris\"],\n",
    "    \"País\": [\"México\", \"EEUU\", \"EEUU\", \"Francia\"],\n",
    "    \"Poblacion\": [9000000, 8000000, 4000000, 2000000],\n",
    "}\n",
    "df2 = pd.DataFrame(data)\n",
    "print(df2.groupby(\"País\")[\"Poblacion\"].sum())"
   ]
  },
  {
   "cell_type": "markdown",
   "id": "32",
   "metadata": {},
   "source": [
    "### Manejo de datos faltantes"
   ]
  },
  {
   "cell_type": "code",
   "execution_count": null,
   "id": "33",
   "metadata": {},
   "outputs": [],
   "source": [
    "data_nan = {\n",
    "    \"Ciudad\": [\"CDMX\", \"NYC\", \"LA\", \"Paris\"],\n",
    "    \"Poblacion\": [9000000, 8000000, None, 2000000],\n",
    "}\n",
    "df_nan = pd.DataFrame(data_nan)\n",
    "print(df_nan.fillna(df_nan[\"Poblacion\"].mean()))"
   ]
  },
  {
   "cell_type": "markdown",
   "id": "34",
   "metadata": {},
   "source": [
    "### Lectura de CSV desde URL"
   ]
  },
  {
   "cell_type": "code",
   "execution_count": null,
   "id": "35",
   "metadata": {},
   "outputs": [],
   "source": [
    "url = \"https://github.com/opengeos/datasets/releases/download/world/world_cities.csv\"\n",
    "df_csv = pd.read_csv(url)\n",
    "print(df_csv.head())\n",
    "print(np.sum(df_csv[\"population\"]))"
   ]
  },
  {
   "cell_type": "markdown",
   "id": "36",
   "metadata": {},
   "source": [
    "### Ejemplo de análisis geoespacial: distancia entre ciudades"
   ]
  },
  {
   "cell_type": "code",
   "execution_count": null,
   "id": "37",
   "metadata": {},
   "outputs": [],
   "source": [
    "def haversine_np(lat1, lon1, lat2, lon2):\n",
    "    R = 6371.0\n",
    "    dlat = np.radians(lat2 - lat1)\n",
    "    dlon = np.radians(lon2 - lon1)\n",
    "    a = (\n",
    "        np.sin(dlat / 2) ** 2\n",
    "        + np.cos(np.radians(lat1)) * np.cos(np.radians(lat2)) * np.sin(dlon / 2) ** 2\n",
    "    )\n",
    "    c = 2 * np.arctan2(np.sqrt(a), np.sqrt(1 - a))\n",
    "    distancia = R * c\n",
    "    return distancia\n",
    "\n",
    "\n",
    "city_pairs = pd.DataFrame(\n",
    "    {\n",
    "        \"Ciudad1\": [\"CDMX\", \"CDMX\", \"NYC\"],\n",
    "        \"Ciudad2\": [\"NYC\", \"LA\", \"LA\"],\n",
    "        \"Lat1\": [19.4, 19.4, 40.7128],\n",
    "        \"Lon1\": [-99.1, -99.1, -74.0060],\n",
    "        \"Lat2\": [40.7128, 34.0522, 34.0522],\n",
    "        \"Lon2\": [-74.0060, -118.2437, -118.2437],\n",
    "    }\n",
    ")\n",
    "city_pairs[\"Distancia_km\"] = haversine_np(\n",
    "    city_pairs[\"Lat1\"], city_pairs[\"Lon1\"], city_pairs[\"Lat2\"], city_pairs[\"Lon2\"]\n",
    ")\n",
    "print(city_pairs)"
   ]
  },
  {
   "cell_type": "markdown",
   "id": "38",
   "metadata": {},
   "source": [
    "---\n",
    "\n",
    "## Ejercicios\n",
    "1. Crea un array de Numpy con elevaciones y normalízalo, calculando media y desviación estándar.\n",
    "2. Crea un DataFrame de Pandas con datos geoespaciales y filtra solo ciudades del hemisferio norte, calculando la latitud media.\n",
    "3. Usando coordenadas, crea un DataFrame y calcula las distancias entre todos los puntos usando Numpy, guardando los resultados en otro DataFrame.\n",
    "\n",
    "---\n",
    "\n",
    "## Resumen\n",
    "\n",
    "Numpy y Pandas son herramientas esenciales para el análisis y manipulación de datos geoespaciales. Dominar estas librerías te permitirá procesar grandes volúmenes de información y realizar análisis avanzados en tus proyectos."
   ]
  }
 ],
 "metadata": {
  "jupytext": {
   "default_lexer": "ipython3"
  },
  "kernelspec": {
   "display_name": "Python 3",
   "language": "python",
   "name": "python3"
  }
 },
 "nbformat": 4,
 "nbformat_minor": 5
}
