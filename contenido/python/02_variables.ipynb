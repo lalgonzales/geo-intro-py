{
 "cells": [
  {
   "cell_type": "markdown",
   "id": "0",
   "metadata": {},
   "source": [
    "# Variables y Tipos de Datos\n",
    "\n",
    "[![Open in Colab](https://colab.research.google.com/assets/colab-badge.svg)](https://colab.research.google.com/github/lalgonzales/geo-intro-py/blob/main/contenido/python/02_variables.ipynb)\n",
    "\n",
    "## Descripción\n",
    "Esta sección introduce los conceptos fundamentales de variables y tipos de datos en Python, con ejemplos aplicados a programación geoespacial. Aprenderás cómo declarar variables, buenas prácticas de nombres y los tipos de datos más usados en Python para datos geográficos.\n",
    "\n",
    "## Objetivos de aprendizaje\n",
    "- Definir y usar variables en Python siguiendo buenas prácticas de nombres y asignación.\n",
    "- Identificar y utilizar los tipos de datos principales: enteros, flotantes, cadenas, booleanos, listas y diccionarios.\n",
    "- Comprender cómo se usan los tipos de datos en el contexto geoespacial (coordenadas, atributos, etc.).\n",
    "- Realizar operaciones básicas y manipulaciones sobre los tipos de datos.\n",
    "- Aplicar estos conceptos en problemas geoespaciales reales, como calcular centroides y manejar atributos."
   ]
  },
  {
   "cell_type": "markdown",
   "id": "1",
   "metadata": {},
   "source": [
    "## Variables en Python\n",
    "En Python, una variable es un nombre simbólico que referencia un objeto. Una vez asignado, puedes manipular ese objeto usando el nombre de la variable.\n",
    "\n",
    "Por ejemplo, para representar el número de puntos espaciales en un dataset:"
   ]
  },
  {
   "cell_type": "code",
   "execution_count": null,
   "id": "2",
   "metadata": {},
   "outputs": [],
   "source": [
    "num_puntos = 120"
   ]
  },
  {
   "cell_type": "markdown",
   "id": "3",
   "metadata": {},
   "source": [
    "Para ver el valor de la variable:"
   ]
  },
  {
   "cell_type": "code",
   "execution_count": null,
   "id": "4",
   "metadata": {},
   "outputs": [],
   "source": [
    "print(num_puntos)"
   ]
  },
  {
   "cell_type": "markdown",
   "id": "5",
   "metadata": {},
   "source": [
    "También puedes simplemente escribir el nombre de la variable en una celda para ver su valor:"
   ]
  },
  {
   "cell_type": "code",
   "execution_count": null,
   "id": "6",
   "metadata": {},
   "outputs": [],
   "source": [
    "num_puntos"
   ]
  },
  {
   "cell_type": "markdown",
   "id": "7",
   "metadata": {},
   "source": [
    "## Buenas prácticas para nombres de variables\n",
    "- Deben comenzar con una letra o guion bajo (`_`).\n",
    "- El resto puede contener letras, números y guiones bajos.\n",
    "- Son sensibles a mayúsculas/minúsculas (`num_puntos` ≠ `Num_Puntos`).\n",
    "- Usa nombres descriptivos y significativos, por ejemplo `num_puntos` en vez de `n`.\n",
    "- Evita palabras reservadas de Python y funciones integradas como `print`, `sum`, `list`, `dict`, etc.\n",
    "\n",
    "Ejemplo:"
   ]
  },
  {
   "cell_type": "code",
   "execution_count": null,
   "id": "8",
   "metadata": {},
   "outputs": [],
   "source": [
    "nombre_capa = \"puntos_geograficos\"\n",
    "_numero = 5\n",
    "print(nombre_capa, _numero)"
   ]
  },
  {
   "cell_type": "markdown",
   "id": "9",
   "metadata": {},
   "source": [
    "## Tipos de datos principales en Python\n",
    "\n",
    "### Enteros (int)"
   ]
  },
  {
   "cell_type": "code",
   "execution_count": null,
   "id": "10",
   "metadata": {},
   "outputs": [],
   "source": [
    "num_features = 500  # Número de features en un dataset geoespacial"
   ]
  },
  {
   "cell_type": "markdown",
   "id": "11",
   "metadata": {},
   "source": [
    "### Flotantes (float)"
   ]
  },
  {
   "cell_type": "code",
   "execution_count": null,
   "id": "12",
   "metadata": {},
   "outputs": [],
   "source": [
    "latitud = 19.4  # Latitud de un punto\n",
    "longitud = -99.1  # Longitud de un punto"
   ]
  },
  {
   "cell_type": "markdown",
   "id": "13",
   "metadata": {},
   "source": [
    "### Cadenas (str)"
   ]
  },
  {
   "cell_type": "code",
   "execution_count": null,
   "id": "14",
   "metadata": {},
   "outputs": [],
   "source": [
    "nombre_ciudad = \"Ciudad de México\"  # Nombre de una ciudad"
   ]
  },
  {
   "cell_type": "markdown",
   "id": "15",
   "metadata": {},
   "source": [
    "Las cadenas pueden ir entre comillas simples ('') o dobles (\"\").\n",
    "\n",
    "### Booleanos (bool)"
   ]
  },
  {
   "cell_type": "code",
   "execution_count": null,
   "id": "16",
   "metadata": {},
   "outputs": [],
   "source": [
    "es_capital = True  # Indica si es capital"
   ]
  },
  {
   "cell_type": "markdown",
   "id": "17",
   "metadata": {},
   "source": [
    "### Listas"
   ]
  },
  {
   "cell_type": "code",
   "execution_count": null,
   "id": "18",
   "metadata": {},
   "outputs": [],
   "source": [
    "coordenadas = [19.4, -99.1]  # Lista de latitud y longitud"
   ]
  },
  {
   "cell_type": "markdown",
   "id": "19",
   "metadata": {},
   "source": [
    "### Diccionarios"
   ]
  },
  {
   "cell_type": "code",
   "execution_count": null,
   "id": "20",
   "metadata": {},
   "outputs": [],
   "source": [
    "atributos = {\"nombre\": \"CDMX\", \"poblacion\": 9000000, \"coords\": [19.4, -99.1]}"
   ]
  },
  {
   "cell_type": "markdown",
   "id": "21",
   "metadata": {},
   "source": [
    "## Caracteres de escape\n",
    "Los caracteres de escape permiten insertar caracteres especiales en cadenas. Por ejemplo, `\\n` para salto de línea y `\\t` para tabulación."
   ]
  },
  {
   "cell_type": "code",
   "execution_count": null,
   "id": "22",
   "metadata": {},
   "outputs": [],
   "source": [
    "print(\"Hola Mundo!\\nEsto es un script de Python.\")\n",
    "print(\"Primera línea.\\n\\tSegunda línea con sangría.\")\n",
    "print(\"¿Cuál es tu nombre?\")"
   ]
  },
  {
   "cell_type": "markdown",
   "id": "23",
   "metadata": {},
   "source": [
    "## Comentarios\n",
    "Los comentarios sirven para explicar el código y mejorar su legibilidad. En Python, comienzan con `#`."
   ]
  },
  {
   "cell_type": "code",
   "execution_count": null,
   "id": "24",
   "metadata": {},
   "outputs": [],
   "source": [
    "# Esto es un comentario\n",
    "num_puntos = 120  # Comentario en línea"
   ]
  },
  {
   "cell_type": "markdown",
   "id": "25",
   "metadata": {},
   "source": [
    "## Operaciones con variables y tipos de datos\n",
    "Suma a una variable:"
   ]
  },
  {
   "cell_type": "code",
   "execution_count": null,
   "id": "26",
   "metadata": {},
   "outputs": [],
   "source": [
    "num_features += 20\n",
    "print(\"Número de features actualizado:\", num_features)"
   ]
  },
  {
   "cell_type": "markdown",
   "id": "27",
   "metadata": {},
   "source": [
    "Conversión de grados a radianes (útil en geoespacial):"
   ]
  },
  {
   "cell_type": "code",
   "execution_count": null,
   "id": "28",
   "metadata": {},
   "outputs": [],
   "source": [
    "import math\n",
    "\n",
    "latitud_rad = math.radians(latitud)\n",
    "print(\"Latitud en radianes:\", latitud_rad)"
   ]
  },
  {
   "cell_type": "markdown",
   "id": "29",
   "metadata": {},
   "source": [
    "Agregar coordenadas a una lista:"
   ]
  },
  {
   "cell_type": "code",
   "execution_count": null,
   "id": "30",
   "metadata": {},
   "outputs": [],
   "source": [
    "coordenadas.append(40.7128)\n",
    "coordenadas.append(-74.0060)\n",
    "print(\"Coordenadas actualizadas:\", coordenadas)"
   ]
  },
  {
   "cell_type": "markdown",
   "id": "31",
   "metadata": {},
   "source": [
    "Acceso a elementos de un diccionario:"
   ]
  },
  {
   "cell_type": "code",
   "execution_count": null,
   "id": "32",
   "metadata": {},
   "outputs": [],
   "source": [
    "nombre = atributos[\"nombre\"]\n",
    "\n",
    "## Ejercicios"
   ]
  },
  {
   "cell_type": "markdown",
   "id": "33",
   "metadata": {},
   "source": [
    "## Ejemplo geoespacial: cálculo de centroide\n",
    "Supón que tienes una lista de coordenadas y quieres calcular el centroide (punto promedio):"
   ]
  },
  {
   "cell_type": "code",
   "execution_count": null,
   "id": "34",
   "metadata": {},
   "outputs": [],
   "source": [
    "puntos = [\n",
    "    [19.4, -99.1],\n",
    "    [40.7128, -74.0060],\n",
    "    [34.0522, -118.2437],\n",
    "    [51.5074, -0.1278],\n",
    "]\n",
    "centroide_lat = sum([p[0] for p in puntos]) / len(puntos)\n",
    "centroide_lon = sum([p[1] for p in puntos]) / len(puntos)\n",
    "centroide = [centroide_lat, centroide_lon]\n",
    "print(\"Centroide de los puntos:\", centroide)"
   ]
  },
  {
   "cell_type": "markdown",
   "id": "35",
   "metadata": {},
   "source": [
    "## Ejercicios\n",
    "1. Crea una lista de tuplas con coordenadas de ciudades que hayas visitado.\n",
    "2. Calcula el centroide de esas coordenadas.\n",
    "3. Crea un diccionario para almacenar la latitud y longitud del centroide.\n",
    "\n",
    "## Resumen\n",
    "Comprender variables y tipos de datos en Python es esencial para la programación geoespacial. Practica creando y manipulando estos tipos en tus propios ejemplos y proyectos.\n",
    "1. Crea una lista de tuplas con coordenadas de ciudades que hayas visitado.\n",
    "2. Calcula el centroide de esas coordenadas.\n",
    "3. Crea un diccionario para almacenar la latitud y longitud del centroide.\n",
    "\n",
    "Comprender variables y tipos de datos en Python es esencial para la programación geoespacial. Practica creando y manipulando estos tipos en tus propios ejemplos y proyectos."
   ]
  }
 ],
 "metadata": {
  "jupytext": {
   "default_lexer": "ipython3"
  },
  "kernelspec": {
   "display_name": "Python 3",
   "language": "python",
   "name": "python3"
  }
 },
 "nbformat": 4,
 "nbformat_minor": 5
}
