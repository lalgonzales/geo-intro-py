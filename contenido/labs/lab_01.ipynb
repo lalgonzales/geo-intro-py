{
 "cells": [
  {
   "cell_type": "markdown",
   "id": "0",
   "metadata": {},
   "source": [
    "# Lab 1: Variables, Estructuras de Datos y Operaciones Básicas\n",
    "\n",
    "[![Abrir en Colab](https://colab.research.google.com/assets/colab-badge.svg)](https://colab.research.google.com/github/lalgonzales/geo-intro-py/blob/main/contenido/labs/lab_01.ipynb)\n",
    "\n",
    "**Lecciones relacionadas:**\n",
    "- [Introducción](../python/01_introduccion.md)\n",
    "- [Variables y Tipos de Datos](../python/02_variables.md)\n",
    "- [Estructuras de Datos en Python](../python/03_estructuras_datos.md)"
   ]
  },
  {
   "cell_type": "markdown",
   "id": "1",
   "metadata": {},
   "source": [
    "## Ejercicio 1: Asignación de variables y operaciones básicas\n",
    "\n",
    "Crea variables para almacenar los siguientes datos geoespaciales:\n",
    "\n",
    "- Latitud y longitud de Nueva York: 40.7128, -74.0060.\n",
    "- Población de Nueva York: 8,336,817.\n",
    "- Área de Nueva York en km²: 783.8.\n",
    "\n",
    "Realiza lo siguiente:\n",
    "\n",
    "1. Calcula e imprime la densidad de población (hab/km²).\n",
    "2. Imprime las coordenadas en el formato \"Latitud: [lat], Longitud: [lon]\"."
   ]
  },
  {
   "cell_type": "code",
   "execution_count": null,
   "id": "2",
   "metadata": {},
   "outputs": [],
   "source": []
  },
  {
   "cell_type": "markdown",
   "id": "3",
   "metadata": {},
   "source": [
    "## Ejercicio 2: Operaciones con cadenas\n",
    "\n",
    "Crea una variable string con el nombre de una ciudad, por ejemplo \"San Francisco\". Realiza:\n",
    "\n",
    "1. Convierte la cadena a minúsculas e imprímela.\n",
    "2. Convierte la cadena a mayúsculas e imprímela.\n",
    "3. Reemplaza \"San\" por \"Los\" e imprime el nuevo nombre."
   ]
  },
  {
   "cell_type": "code",
   "execution_count": null,
   "id": "4",
   "metadata": {},
   "outputs": [],
   "source": []
  },
  {
   "cell_type": "markdown",
   "id": "5",
   "metadata": {},
   "source": [
    "## Ejercicio 3: Uso de listas\n",
    "\n",
    "Crea una lista de tuplas, cada una con el nombre de una ciudad y su latitud y longitud:\n",
    "\n",
    "- Nueva York: (40.7128, -74.0060)\n",
    "- Los Ángeles: (34.0522, -118.2437)\n",
    "- Chicago: (41.8781, -87.6298)\n",
    "\n",
    "Realiza:\n",
    "\n",
    "1. Agrega Miami: (25.7617, -80.1918).\n",
    "2. Imprime la lista completa.\n",
    "3. Imprime solo las dos primeras ciudades."
   ]
  },
  {
   "cell_type": "code",
   "execution_count": null,
   "id": "6",
   "metadata": {},
   "outputs": [],
   "source": []
  },
  {
   "cell_type": "markdown",
   "id": "7",
   "metadata": {},
   "source": [
    "## Ejercicio 4: Uso de tuplas\n",
    "\n",
    "Crea una tupla con las coordenadas de la Torre Eiffel: (48.8584, 2.2945). Realiza:\n",
    "\n",
    "1. Accede e imprime latitud y longitud.\n",
    "2. Intenta cambiar la latitud a 48.8585. ¿Qué sucede? Explica."
   ]
  },
  {
   "cell_type": "code",
   "execution_count": null,
   "id": "8",
   "metadata": {},
   "outputs": [],
   "source": []
  },
  {
   "cell_type": "markdown",
   "id": "9",
   "metadata": {},
   "source": [
    "## Ejercicio 5: Uso de sets\n",
    "\n",
    "Crea un set de países visitados, por ejemplo {\"USA\", \"Francia\", \"Alemania\"}. Realiza:\n",
    "\n",
    "1. Agrega un país nuevo.\n",
    "2. Intenta agregar el mismo país otra vez. ¿Qué sucede?\n",
    "3. Imprime el set actualizado."
   ]
  },
  {
   "cell_type": "code",
   "execution_count": null,
   "id": "10",
   "metadata": {},
   "outputs": [],
   "source": []
  },
  {
   "cell_type": "markdown",
   "id": "11",
   "metadata": {},
   "source": [
    "## Ejercicio 6: Uso de diccionarios\n",
    "\n",
    "Crea un diccionario con información de un río:\n",
    "\n",
    "- Nombre: \"Amazonas\"\n",
    "- Longitud: 6400 km\n",
    "- Países: [\"Brasil\", \"Perú\", \"Colombia\"]\n",
    "\n",
    "Realiza:\n",
    "\n",
    "1. Agrega el caudal promedio (ej. 209,000 m³/s).\n",
    "2. Actualiza la longitud a 6992 km.\n",
    "3. Imprime el diccionario."
   ]
  },
  {
   "cell_type": "code",
   "execution_count": null,
   "id": "12",
   "metadata": {},
   "outputs": [],
   "source": []
  },
  {
   "cell_type": "markdown",
   "id": "13",
   "metadata": {},
   "source": [
    "## Ejercicio 7: Estructuras anidadas\n",
    "\n",
    "Crea un diccionario para una ciudad con nombre, población y coordenadas:\n",
    "\n",
    "- Nombre: \"Tokio\"\n",
    "- Población: 13,515,271\n",
    "- Coordenadas: (35.6895, 139.6917)\n",
    "\n",
    "Realiza:\n",
    "\n",
    "1. Imprime la población.\n",
    "2. Imprime la latitud.\n",
    "3. Actualiza la población a 14,000,000 e imprime el diccionario."
   ]
  },
  {
   "cell_type": "code",
   "execution_count": null,
   "id": "14",
   "metadata": {},
   "outputs": [],
   "source": []
  },
  {
   "cell_type": "markdown",
   "id": "15",
   "metadata": {},
   "source": [
    "## Ejercicio 8: Operaciones con listas\n",
    "\n",
    "Usando la lista de ciudades del Ejercicio 3:\n",
    "\n",
    "1. Ordena la lista alfabéticamente por nombre.\n",
    "2. Crea una lista solo con los nombres de las ciudades.\n",
    "3. Elimina la última ciudad e imprime la lista actualizada."
   ]
  },
  {
   "cell_type": "code",
   "execution_count": null,
   "id": "16",
   "metadata": {},
   "outputs": [],
   "source": []
  },
  {
   "cell_type": "markdown",
   "id": "17",
   "metadata": {},
   "source": [
    "## Ejercicio 9: Operaciones con diccionarios\n",
    "\n",
    "Usando el diccionario del Ejercicio 6:\n",
    "\n",
    "1. Verifica si la clave \"Longitud\" existe.\n",
    "2. Imprime todas las claves.\n",
    "3. Imprime todos los valores."
   ]
  },
  {
   "cell_type": "code",
   "execution_count": null,
   "id": "18",
   "metadata": {},
   "outputs": [],
   "source": []
  },
  {
   "cell_type": "markdown",
   "id": "19",
   "metadata": {},
   "source": [
    "## Ejercicio 10: Aplicación práctica\n",
    "\n",
    "Dada una lista de tuplas con nombre, latitud y longitud:"
   ]
  },
  {
   "cell_type": "code",
   "execution_count": null,
   "id": "20",
   "metadata": {},
   "outputs": [],
   "source": [
    "locations = [\n",
    "    (\"Monte Everest\", 27.9881, 86.9250),\n",
    "    (\"K2\", 35.8808, 76.5155),\n",
    "    (\"Kangchenjunga\", 27.7025, 88.1475),\n",
    "]"
   ]
  },
  {
   "cell_type": "markdown",
   "id": "21",
   "metadata": {},
   "source": [
    "Realiza:\n",
    "\n",
    "1. Crea una lista solo con los nombres.\n",
    "2. Crea un diccionario con nombre como clave y coordenadas como valor.\n",
    "3. Imprime la latitud de \"K2\" usando el diccionario."
   ]
  },
  {
   "cell_type": "code",
   "execution_count": null,
   "id": "22",
   "metadata": {},
   "outputs": [],
   "source": []
  }
 ],
 "metadata": {
  "jupytext": {
   "default_lexer": "ipython3"
  },
  "kernelspec": {
   "display_name": "Python 3",
   "language": "python",
   "name": "python3"
  }
 },
 "nbformat": 4,
 "nbformat_minor": 5
}
