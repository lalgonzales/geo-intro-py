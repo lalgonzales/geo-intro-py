{
 "cells": [
  {
   "cell_type": "markdown",
   "id": "0",
   "metadata": {},
   "source": [
    "# Lab 2: Manipulación de Cadenas y Control de Flujo en Python\n",
    "\n",
    "[![Abrir en Colab](https://colab.research.google.com/assets/colab-badge.svg)](https://colab.research.google.com/github/lalgonzales/geo-intro-py/blob/main/contenido/labs/lab_02.ipynb)\n",
    "\n",
    "Este notebook contiene ejercicios basados en las lecciones sobre [**Operaciones con Cadenas en Python**](../python/04_operaciones_cadenas.md) y [**Bucles y Sentencias de Control en Python**](../python/05_bucles.md). Estos ejercicios ayudarán a reforzar los conceptos de manipulación de cadenas, bucles y condicionales en contextos geoespaciales."
   ]
  },
  {
   "cell_type": "markdown",
   "id": "1",
   "metadata": {},
   "source": [
    "## Ejercicio 1: Manipulación de cadenas geográficas\n",
    "\n",
    "- Crea una cadena con el nombre de un elemento geográfico (ejemplo: `\"Río Ulúa\"`).\n",
    "- Convierte la cadena a minúsculas y luego a mayúsculas.\n",
    "- Concatenar la cadena con el país (ejemplo: `\"Honduras\"`) para formar el nombre completo.\n",
    "- Repite la cadena tres veces, separando cada repetición con un guion (`-`)."
   ]
  },
  {
   "cell_type": "code",
   "execution_count": null,
   "id": "2",
   "metadata": {},
   "outputs": [],
   "source": []
  },
  {
   "cell_type": "markdown",
   "id": "3",
   "metadata": {},
   "source": [
    "## Ejercicio 2: Extracción y formato de coordenadas\n",
    "\n",
    "- Dada una cadena con el formato \"latitud, longitud\" (ejemplo: \"14.0650N, 87.1715W\"), extrae los valores numéricos.\n",
    "- Convierte los valores a float y elimina los indicadores de dirección (N, S, E, W).\n",
    "- Formatea las coordenadas en una cadena WKT tipo `POINT` (ejemplo: \"POINT(-87.1715 14.0650)\")."
   ]
  },
  {
   "cell_type": "code",
   "execution_count": null,
   "id": "4",
   "metadata": {},
   "outputs": [],
   "source": []
  },
  {
   "cell_type": "markdown",
   "id": "5",
   "metadata": {},
   "source": [
    "## Ejercicio 3: Construcción dinámica de consultas SQL\n",
    "\n",
    "- Dado un nombre de tabla y una condición, construye dinámicamente una consulta SQL.\n",
    "- Ejemplo: Si `tabla = \"ciudades\"` y `condicion = \"poblacion > 1000000\"`, la consulta debe ser `SELECT * FROM ciudades WHERE poblacion > 1000000;`.\n",
    "- Agrega condiciones adicionales dinámicamente usando `AND`."
   ]
  },
  {
   "cell_type": "code",
   "execution_count": null,
   "id": "6",
   "metadata": {},
   "outputs": [],
   "source": []
  },
  {
   "cell_type": "markdown",
   "id": "7",
   "metadata": {},
   "source": [
    "## Ejercicio 4: Normalización y limpieza de cadenas\n",
    "\n",
    "- Dada una lista de nombres de ciudades con formato inconsistente (ejemplo: `[\" tegucigalpa \", \"SAN PEDRO SULA\", \"   LA CEIBA\"]`), normaliza los nombres:\n",
    "  - Elimina espacios al inicio y final.\n",
    "  - Convierte a formato título (\"Tegucigalpa\", \"San Pedro Sula\", \"La Ceiba\").\n",
    "- El resultado debe ser una lista limpia de nombres de ciudades."
   ]
  },
  {
   "cell_type": "code",
   "execution_count": null,
   "id": "8",
   "metadata": {},
   "outputs": [],
   "source": []
  },
  {
   "cell_type": "markdown",
   "id": "9",
   "metadata": {},
   "source": [
    "## Ejercicio 5: Parseo y extracción de direcciones\n",
    "\n",
    "- Dada una cadena con el formato \"Calle, Ciudad, País\" (ejemplo: \"Calle Real, Tegucigalpa, Honduras\"), escribe una función que la convierta en un diccionario con claves `calle`, `ciudad` y `pais`.\n",
    "- El resultado debe ser: `{\"calle\": \"Calle Real\", \"ciudad\": \"Tegucigalpa\", \"pais\": \"Honduras\"}`."
   ]
  },
  {
   "cell_type": "code",
   "execution_count": null,
   "id": "10",
   "metadata": {},
   "outputs": [],
   "source": []
  },
  {
   "cell_type": "markdown",
   "id": "11",
   "metadata": {},
   "source": [
    "## Ejercicio 6: Uso de for para procesar coordenadas\n",
    "\n",
    "- Crea una lista de tuplas con coordenadas (latitud, longitud).\n",
    "- Usa un bucle `for` para imprimir cada coordenada e indicar si está en el hemisferio norte o sur según la latitud."
   ]
  },
  {
   "cell_type": "code",
   "execution_count": null,
   "id": "12",
   "metadata": {},
   "outputs": [],
   "source": []
  },
  {
   "cell_type": "markdown",
   "id": "13",
   "metadata": {},
   "source": [
    "## Ejercicio 7: Uso de while para procesamiento iterativo\n",
    "\n",
    "- Crea una lista de coordenadas (latitud, longitud).\n",
    "- Usa un bucle `while` que imprima cada coordenada hasta encontrar una con latitud negativa. Detén el bucle en ese punto."
   ]
  },
  {
   "cell_type": "code",
   "execution_count": null,
   "id": "14",
   "metadata": {},
   "outputs": [],
   "source": []
  },
  {
   "cell_type": "markdown",
   "id": "15",
   "metadata": {},
   "source": [
    "## Ejercicio 8: Lógica condicional en bucles\n",
    "\n",
    "- Crea una lista de coordenadas y recórrela con un `for`.\n",
    "- Usa un `if-elif-else` para clasificar cada coordenada según la longitud:\n",
    "  - Imprime \"Hemisferio Este\" si la longitud es mayor a 0.\n",
    "  - Imprime \"Hemisferio Oeste\" si la longitud es menor a 0."
   ]
  },
  {
   "cell_type": "code",
   "execution_count": null,
   "id": "16",
   "metadata": {},
   "outputs": [],
   "source": []
  },
  {
   "cell_type": "markdown",
   "id": "17",
   "metadata": {},
   "source": [
    "## Ejercicio 9: Filtrado de datos con bucles y condicionales\n",
    "\n",
    "- Dada una lista de coordenadas, filtra y almacena solo las que estén en el hemisferio sur (latitud < 0).\n",
    "- Cuenta cuántas cumplen la condición e imprime el resultado."
   ]
  },
  {
   "cell_type": "code",
   "execution_count": null,
   "id": "18",
   "metadata": {},
   "outputs": [],
   "source": []
  },
  {
   "cell_type": "markdown",
   "id": "19",
   "metadata": {},
   "source": [
    "## Ejercicio 10: Generación y análisis de coordenadas aleatorias\n",
    "\n",
    "- Escribe un programa que genere coordenadas aleatorias (latitud entre [-90, 90], longitud entre [-180, 180]).\n",
    "- Usa un bucle `while` para seguir generando hasta obtener una coordenada donde latitud y longitud sean mayores a 50.\n",
    "- Imprime cada coordenada generada y la final que cumple la condición."
   ]
  },
  {
   "cell_type": "code",
   "execution_count": null,
   "id": "20",
   "metadata": {},
   "outputs": [],
   "source": []
  }
 ],
 "metadata": {
  "jupytext": {
   "default_lexer": "ipython3"
  },
  "kernelspec": {
   "display_name": "Python 3",
   "language": "python",
   "name": "python3"
  }
 },
 "nbformat": 4,
 "nbformat_minor": 5
}
